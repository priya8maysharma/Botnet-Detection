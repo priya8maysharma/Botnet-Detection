{
 "cells": [
  {
   "cell_type": "code",
   "execution_count": 2,
   "id": "df325946",
   "metadata": {},
   "outputs": [],
   "source": [
    "#LOADING THE DATASET IMPORTING LIBRARIES\n",
    "import numpy as np\n",
    "import matplotlib.pyplot as plt\n",
    "import pandas as pd\n",
    "import seaborn as sns\n",
    "%matplotlib inline\n",
    "from sklearn.metrics import confusion_matrix\n",
    "from sklearn.preprocessing import LabelEncoder\n",
    "from sklearn.linear_model import LogisticRegression\n"
   ]
  },
  {
   "cell_type": "code",
   "execution_count": 3,
   "id": "d66926dd",
   "metadata": {},
   "outputs": [
    {
     "data": {
      "text/html": [
       "<div>\n",
       "<style scoped>\n",
       "    .dataframe tbody tr th:only-of-type {\n",
       "        vertical-align: middle;\n",
       "    }\n",
       "\n",
       "    .dataframe tbody tr th {\n",
       "        vertical-align: top;\n",
       "    }\n",
       "\n",
       "    .dataframe thead th {\n",
       "        text-align: right;\n",
       "    }\n",
       "</style>\n",
       "<table border=\"1\" class=\"dataframe\">\n",
       "  <thead>\n",
       "    <tr style=\"text-align: right;\">\n",
       "      <th></th>\n",
       "      <th>SourcedFrom</th>\n",
       "      <th>FileTimeUtc</th>\n",
       "      <th>Botnet</th>\n",
       "      <th>SourceIp</th>\n",
       "      <th>SourcePort</th>\n",
       "      <th>SourceIpAsnNr</th>\n",
       "      <th>TargetIp</th>\n",
       "      <th>TargetPort</th>\n",
       "      <th>Payload</th>\n",
       "      <th>SourceIpCountryCode</th>\n",
       "      <th>...</th>\n",
       "      <th>HttpUserAgent</th>\n",
       "      <th>HttpMethod</th>\n",
       "      <th>HttpVersion</th>\n",
       "      <th>HttpHost</th>\n",
       "      <th>Custom Field 1</th>\n",
       "      <th>Custom Field 2</th>\n",
       "      <th>Custom Field 3</th>\n",
       "      <th>Custom Field 4</th>\n",
       "      <th>Custom Field 5</th>\n",
       "      <th>Threat Confidence</th>\n",
       "    </tr>\n",
       "  </thead>\n",
       "  <tbody>\n",
       "    <tr>\n",
       "      <th>0</th>\n",
       "      <td>SinkHoleMessage</td>\n",
       "      <td>1.310000e+17</td>\n",
       "      <td>B106-Jenxcus</td>\n",
       "      <td>219.92.234.26</td>\n",
       "      <td>1044</td>\n",
       "      <td>AS4788</td>\n",
       "      <td>204.95.99.86</td>\n",
       "      <td>4442</td>\n",
       "      <td>NaN</td>\n",
       "      <td>MY</td>\n",
       "      <td>...</td>\n",
       "      <td>NaN</td>\n",
       "      <td>NaN</td>\n",
       "      <td>NaN</td>\n",
       "      <td>NaN</td>\n",
       "      <td>NaN</td>\n",
       "      <td>NaN</td>\n",
       "      <td>NaN</td>\n",
       "      <td>NaN</td>\n",
       "      <td>NaN</td>\n",
       "      <td>High</td>\n",
       "    </tr>\n",
       "    <tr>\n",
       "      <th>1</th>\n",
       "      <td>SinkHoleMessage</td>\n",
       "      <td>1.310000e+17</td>\n",
       "      <td>B106-MULTI</td>\n",
       "      <td>115.135.242.250</td>\n",
       "      <td>57260</td>\n",
       "      <td>AS4788</td>\n",
       "      <td>204.95.99.109</td>\n",
       "      <td>88</td>\n",
       "      <td>NaN</td>\n",
       "      <td>MY</td>\n",
       "      <td>...</td>\n",
       "      <td>NaN</td>\n",
       "      <td>NaN</td>\n",
       "      <td>NaN</td>\n",
       "      <td>NaN</td>\n",
       "      <td>NaN</td>\n",
       "      <td>NaN</td>\n",
       "      <td>NaN</td>\n",
       "      <td>NaN</td>\n",
       "      <td>NaN</td>\n",
       "      <td>High</td>\n",
       "    </tr>\n",
       "    <tr>\n",
       "      <th>2</th>\n",
       "      <td>SinkHoleMessage</td>\n",
       "      <td>1.310000e+17</td>\n",
       "      <td>B106-MULTI</td>\n",
       "      <td>14.1.198.187</td>\n",
       "      <td>58859</td>\n",
       "      <td>AS45960</td>\n",
       "      <td>204.95.99.109</td>\n",
       "      <td>81</td>\n",
       "      <td>NaN</td>\n",
       "      <td>MY</td>\n",
       "      <td>...</td>\n",
       "      <td>NaN</td>\n",
       "      <td>NaN</td>\n",
       "      <td>NaN</td>\n",
       "      <td>NaN</td>\n",
       "      <td>NaN</td>\n",
       "      <td>NaN</td>\n",
       "      <td>NaN</td>\n",
       "      <td>NaN</td>\n",
       "      <td>NaN</td>\n",
       "      <td>High</td>\n",
       "    </tr>\n",
       "    <tr>\n",
       "      <th>3</th>\n",
       "      <td>SinkHoleMessage</td>\n",
       "      <td>1.310000e+17</td>\n",
       "      <td>B106-Fynloski</td>\n",
       "      <td>60.48.251.19</td>\n",
       "      <td>53586</td>\n",
       "      <td>AS4788</td>\n",
       "      <td>204.95.99.66</td>\n",
       "      <td>5552</td>\n",
       "      <td>NaN</td>\n",
       "      <td>MY</td>\n",
       "      <td>...</td>\n",
       "      <td>NaN</td>\n",
       "      <td>NaN</td>\n",
       "      <td>NaN</td>\n",
       "      <td>NaN</td>\n",
       "      <td>NaN</td>\n",
       "      <td>NaN</td>\n",
       "      <td>NaN</td>\n",
       "      <td>NaN</td>\n",
       "      <td>NaN</td>\n",
       "      <td>Low</td>\n",
       "    </tr>\n",
       "    <tr>\n",
       "      <th>4</th>\n",
       "      <td>SinkHoleMessage</td>\n",
       "      <td>1.310000e+17</td>\n",
       "      <td>B106-CB</td>\n",
       "      <td>113.210.7.77</td>\n",
       "      <td>12277</td>\n",
       "      <td>AS9534</td>\n",
       "      <td>204.95.99.31</td>\n",
       "      <td>288</td>\n",
       "      <td>NaN</td>\n",
       "      <td>MY</td>\n",
       "      <td>...</td>\n",
       "      <td>NaN</td>\n",
       "      <td>NaN</td>\n",
       "      <td>NaN</td>\n",
       "      <td>NaN</td>\n",
       "      <td>NaN</td>\n",
       "      <td>NaN</td>\n",
       "      <td>NaN</td>\n",
       "      <td>NaN</td>\n",
       "      <td>NaN</td>\n",
       "      <td>High</td>\n",
       "    </tr>\n",
       "  </tbody>\n",
       "</table>\n",
       "<p>5 rows × 29 columns</p>\n",
       "</div>"
      ],
      "text/plain": [
       "       SourcedFrom   FileTimeUtc         Botnet         SourceIp  SourcePort  \\\n",
       "0  SinkHoleMessage  1.310000e+17   B106-Jenxcus    219.92.234.26        1044   \n",
       "1  SinkHoleMessage  1.310000e+17     B106-MULTI  115.135.242.250       57260   \n",
       "2  SinkHoleMessage  1.310000e+17     B106-MULTI     14.1.198.187       58859   \n",
       "3  SinkHoleMessage  1.310000e+17  B106-Fynloski     60.48.251.19       53586   \n",
       "4  SinkHoleMessage  1.310000e+17        B106-CB     113.210.7.77       12277   \n",
       "\n",
       "  SourceIpAsnNr       TargetIp  TargetPort  Payload SourceIpCountryCode  ...  \\\n",
       "0        AS4788   204.95.99.86        4442      NaN                  MY  ...   \n",
       "1        AS4788  204.95.99.109          88      NaN                  MY  ...   \n",
       "2       AS45960  204.95.99.109          81      NaN                  MY  ...   \n",
       "3        AS4788   204.95.99.66        5552      NaN                  MY  ...   \n",
       "4        AS9534   204.95.99.31         288      NaN                  MY  ...   \n",
       "\n",
       "   HttpUserAgent HttpMethod  HttpVersion  HttpHost  Custom Field 1  \\\n",
       "0            NaN        NaN          NaN       NaN             NaN   \n",
       "1            NaN        NaN          NaN       NaN             NaN   \n",
       "2            NaN        NaN          NaN       NaN             NaN   \n",
       "3            NaN        NaN          NaN       NaN             NaN   \n",
       "4            NaN        NaN          NaN       NaN             NaN   \n",
       "\n",
       "   Custom Field 2  Custom Field 3 Custom Field 4 Custom Field 5  \\\n",
       "0             NaN             NaN            NaN            NaN   \n",
       "1             NaN             NaN            NaN            NaN   \n",
       "2             NaN             NaN            NaN            NaN   \n",
       "3             NaN             NaN            NaN            NaN   \n",
       "4             NaN             NaN            NaN            NaN   \n",
       "\n",
       "  Threat Confidence  \n",
       "0              High  \n",
       "1              High  \n",
       "2              High  \n",
       "3               Low  \n",
       "4              High  \n",
       "\n",
       "[5 rows x 29 columns]"
      ]
     },
     "execution_count": 3,
     "metadata": {},
     "output_type": "execute_result"
    }
   ],
   "source": [
    "#LOADING DATASET\n",
    "dataset = pd.read_csv('Botnet Dataset.csv')\n",
    "dataset.head()\n"
   ]
  },
  {
   "cell_type": "code",
   "execution_count": 4,
   "id": "a299e7d3",
   "metadata": {},
   "outputs": [
    {
     "data": {
      "text/html": [
       "<div>\n",
       "<style scoped>\n",
       "    .dataframe tbody tr th:only-of-type {\n",
       "        vertical-align: middle;\n",
       "    }\n",
       "\n",
       "    .dataframe tbody tr th {\n",
       "        vertical-align: top;\n",
       "    }\n",
       "\n",
       "    .dataframe thead th {\n",
       "        text-align: right;\n",
       "    }\n",
       "</style>\n",
       "<table border=\"1\" class=\"dataframe\">\n",
       "  <thead>\n",
       "    <tr style=\"text-align: right;\">\n",
       "      <th></th>\n",
       "      <th>SourcedFrom</th>\n",
       "      <th>FileTimeUtc</th>\n",
       "      <th>Botnet</th>\n",
       "      <th>SourceIp</th>\n",
       "      <th>SourcePort</th>\n",
       "      <th>SourceIpAsnNr</th>\n",
       "      <th>TargetIp</th>\n",
       "      <th>TargetPort</th>\n",
       "      <th>Payload</th>\n",
       "      <th>SourceIpCountryCode</th>\n",
       "      <th>...</th>\n",
       "      <th>HttpUserAgent</th>\n",
       "      <th>HttpMethod</th>\n",
       "      <th>HttpVersion</th>\n",
       "      <th>HttpHost</th>\n",
       "      <th>Custom Field 1</th>\n",
       "      <th>Custom Field 2</th>\n",
       "      <th>Custom Field 3</th>\n",
       "      <th>Custom Field 4</th>\n",
       "      <th>Custom Field 5</th>\n",
       "      <th>Threat Confidence</th>\n",
       "    </tr>\n",
       "  </thead>\n",
       "  <tbody>\n",
       "    <tr>\n",
       "      <th>7994</th>\n",
       "      <td>SinkHoleMessage</td>\n",
       "      <td>1.310000e+17</td>\n",
       "      <td>B106-Rebhip</td>\n",
       "      <td>118.100.139.21</td>\n",
       "      <td>53816</td>\n",
       "      <td>AS4788</td>\n",
       "      <td>204.95.99.142</td>\n",
       "      <td>86</td>\n",
       "      <td>NaN</td>\n",
       "      <td>MY</td>\n",
       "      <td>...</td>\n",
       "      <td>NaN</td>\n",
       "      <td>NaN</td>\n",
       "      <td>NaN</td>\n",
       "      <td>NaN</td>\n",
       "      <td>NaN</td>\n",
       "      <td>NaN</td>\n",
       "      <td>NaN</td>\n",
       "      <td>NaN</td>\n",
       "      <td>NaN</td>\n",
       "      <td>Low</td>\n",
       "    </tr>\n",
       "    <tr>\n",
       "      <th>7995</th>\n",
       "      <td>SinkHoleMessage</td>\n",
       "      <td>1.310000e+17</td>\n",
       "      <td>B106-Rebhip</td>\n",
       "      <td>118.100.139.21</td>\n",
       "      <td>53816</td>\n",
       "      <td>AS4788</td>\n",
       "      <td>204.95.99.142</td>\n",
       "      <td>86</td>\n",
       "      <td>NaN</td>\n",
       "      <td>MY</td>\n",
       "      <td>...</td>\n",
       "      <td>NaN</td>\n",
       "      <td>NaN</td>\n",
       "      <td>NaN</td>\n",
       "      <td>NaN</td>\n",
       "      <td>NaN</td>\n",
       "      <td>NaN</td>\n",
       "      <td>NaN</td>\n",
       "      <td>NaN</td>\n",
       "      <td>NaN</td>\n",
       "      <td>Low</td>\n",
       "    </tr>\n",
       "    <tr>\n",
       "      <th>7996</th>\n",
       "      <td>SinkHoleMessage</td>\n",
       "      <td>1.310000e+17</td>\n",
       "      <td>B106-Rebhip</td>\n",
       "      <td>118.100.139.21</td>\n",
       "      <td>53816</td>\n",
       "      <td>AS4788</td>\n",
       "      <td>204.95.99.142</td>\n",
       "      <td>86</td>\n",
       "      <td>NaN</td>\n",
       "      <td>MY</td>\n",
       "      <td>...</td>\n",
       "      <td>NaN</td>\n",
       "      <td>NaN</td>\n",
       "      <td>NaN</td>\n",
       "      <td>NaN</td>\n",
       "      <td>NaN</td>\n",
       "      <td>NaN</td>\n",
       "      <td>NaN</td>\n",
       "      <td>NaN</td>\n",
       "      <td>NaN</td>\n",
       "      <td>Low</td>\n",
       "    </tr>\n",
       "    <tr>\n",
       "      <th>7997</th>\n",
       "      <td>SinkHoleMessage</td>\n",
       "      <td>1.310000e+17</td>\n",
       "      <td>B106-Rebhip</td>\n",
       "      <td>118.100.139.21</td>\n",
       "      <td>53816</td>\n",
       "      <td>AS4788</td>\n",
       "      <td>204.95.99.142</td>\n",
       "      <td>86</td>\n",
       "      <td>NaN</td>\n",
       "      <td>MY</td>\n",
       "      <td>...</td>\n",
       "      <td>NaN</td>\n",
       "      <td>NaN</td>\n",
       "      <td>NaN</td>\n",
       "      <td>NaN</td>\n",
       "      <td>NaN</td>\n",
       "      <td>NaN</td>\n",
       "      <td>NaN</td>\n",
       "      <td>NaN</td>\n",
       "      <td>NaN</td>\n",
       "      <td>Low</td>\n",
       "    </tr>\n",
       "    <tr>\n",
       "      <th>7998</th>\n",
       "      <td>SinkHoleMessage</td>\n",
       "      <td>1.310000e+17</td>\n",
       "      <td>B106-Rebhip</td>\n",
       "      <td>118.100.139.21</td>\n",
       "      <td>53816</td>\n",
       "      <td>AS4788</td>\n",
       "      <td>204.95.99.142</td>\n",
       "      <td>86</td>\n",
       "      <td>NaN</td>\n",
       "      <td>MY</td>\n",
       "      <td>...</td>\n",
       "      <td>NaN</td>\n",
       "      <td>NaN</td>\n",
       "      <td>NaN</td>\n",
       "      <td>NaN</td>\n",
       "      <td>NaN</td>\n",
       "      <td>NaN</td>\n",
       "      <td>NaN</td>\n",
       "      <td>NaN</td>\n",
       "      <td>NaN</td>\n",
       "      <td>Low</td>\n",
       "    </tr>\n",
       "  </tbody>\n",
       "</table>\n",
       "<p>5 rows × 29 columns</p>\n",
       "</div>"
      ],
      "text/plain": [
       "          SourcedFrom   FileTimeUtc       Botnet        SourceIp  SourcePort  \\\n",
       "7994  SinkHoleMessage  1.310000e+17  B106-Rebhip  118.100.139.21       53816   \n",
       "7995  SinkHoleMessage  1.310000e+17  B106-Rebhip  118.100.139.21       53816   \n",
       "7996  SinkHoleMessage  1.310000e+17  B106-Rebhip  118.100.139.21       53816   \n",
       "7997  SinkHoleMessage  1.310000e+17  B106-Rebhip  118.100.139.21       53816   \n",
       "7998  SinkHoleMessage  1.310000e+17  B106-Rebhip  118.100.139.21       53816   \n",
       "\n",
       "     SourceIpAsnNr       TargetIp  TargetPort  Payload SourceIpCountryCode  \\\n",
       "7994        AS4788  204.95.99.142          86      NaN                  MY   \n",
       "7995        AS4788  204.95.99.142          86      NaN                  MY   \n",
       "7996        AS4788  204.95.99.142          86      NaN                  MY   \n",
       "7997        AS4788  204.95.99.142          86      NaN                  MY   \n",
       "7998        AS4788  204.95.99.142          86      NaN                  MY   \n",
       "\n",
       "      ...  HttpUserAgent HttpMethod  HttpVersion  HttpHost  Custom Field 1  \\\n",
       "7994  ...            NaN        NaN          NaN       NaN             NaN   \n",
       "7995  ...            NaN        NaN          NaN       NaN             NaN   \n",
       "7996  ...            NaN        NaN          NaN       NaN             NaN   \n",
       "7997  ...            NaN        NaN          NaN       NaN             NaN   \n",
       "7998  ...            NaN        NaN          NaN       NaN             NaN   \n",
       "\n",
       "      Custom Field 2  Custom Field 3 Custom Field 4 Custom Field 5  \\\n",
       "7994             NaN             NaN            NaN            NaN   \n",
       "7995             NaN             NaN            NaN            NaN   \n",
       "7996             NaN             NaN            NaN            NaN   \n",
       "7997             NaN             NaN            NaN            NaN   \n",
       "7998             NaN             NaN            NaN            NaN   \n",
       "\n",
       "     Threat Confidence  \n",
       "7994               Low  \n",
       "7995               Low  \n",
       "7996               Low  \n",
       "7997               Low  \n",
       "7998               Low  \n",
       "\n",
       "[5 rows x 29 columns]"
      ]
     },
     "execution_count": 4,
     "metadata": {},
     "output_type": "execute_result"
    }
   ],
   "source": [
    "dataset.tail() "
   ]
  },
  {
   "cell_type": "code",
   "execution_count": 5,
   "id": "3bc20617",
   "metadata": {},
   "outputs": [
    {
     "name": "stdout",
     "output_type": "stream",
     "text": [
      "<class 'pandas.core.frame.DataFrame'>\n",
      "RangeIndex: 7999 entries, 0 to 7998\n",
      "Data columns (total 29 columns):\n",
      " #   Column               Non-Null Count  Dtype  \n",
      "---  ------               --------------  -----  \n",
      " 0   SourcedFrom          7999 non-null   object \n",
      " 1   FileTimeUtc          7999 non-null   float64\n",
      " 2   Botnet               7999 non-null   object \n",
      " 3   SourceIp             7999 non-null   object \n",
      " 4   SourcePort           7999 non-null   int64  \n",
      " 5   SourceIpAsnNr        7999 non-null   object \n",
      " 6   TargetIp             7999 non-null   object \n",
      " 7   TargetPort           7999 non-null   int64  \n",
      " 8   Payload              0 non-null      float64\n",
      " 9   SourceIpCountryCode  7999 non-null   object \n",
      " 10  SourceIpRegion       7621 non-null   float64\n",
      " 11  SourceIpCity         7621 non-null   object \n",
      " 12  SourceIpPostalCode   4 non-null      float64\n",
      " 13  SourceIpLatitude     7999 non-null   float64\n",
      " 14  SourceIpLongitude    7999 non-null   float64\n",
      " 15  SourceIpMetroCode    7999 non-null   int64  \n",
      " 16  SourceIpAreaCode     7999 non-null   int64  \n",
      " 17  HttpRequest          7859 non-null   object \n",
      " 18  HttpReferrer         321 non-null    object \n",
      " 19  HttpUserAgent        6 non-null      object \n",
      " 20  HttpMethod           3 non-null      object \n",
      " 21  HttpVersion          3 non-null      float64\n",
      " 22  HttpHost             3 non-null      object \n",
      " 23  Custom Field 1       0 non-null      float64\n",
      " 24  Custom Field 2       0 non-null      float64\n",
      " 25  Custom Field 3       0 non-null      float64\n",
      " 26  Custom Field 4       0 non-null      float64\n",
      " 27  Custom Field 5       0 non-null      float64\n",
      " 28  Threat Confidence    7999 non-null   object \n",
      "dtypes: float64(12), int64(4), object(13)\n",
      "memory usage: 1.8+ MB\n"
     ]
    }
   ],
   "source": [
    "# DATASET CLEANING \n",
    "dataset.info() "
   ]
  },
  {
   "cell_type": "code",
   "execution_count": 6,
   "id": "f9fd2ff0",
   "metadata": {},
   "outputs": [
    {
     "data": {
      "text/plain": [
       "<Axes: >"
      ]
     },
     "execution_count": 6,
     "metadata": {},
     "output_type": "execute_result"
    },
    {
     "data": {
      "image/png": "[encoded data removed]",
      "text/plain": [
       "<Figure size 640x480 with 2 Axes>"
      ]
     },
     "metadata": {},
     "output_type": "display_data"
    }
   ],
   "source": [
    "# PLOTTING HEATMAP FOR NULL DATA\n",
    "sns.heatmap(dataset.isnull(),yticklabels=False)\n"
   ]
  },
  {
   "cell_type": "code",
   "execution_count": 7,
   "id": "19ae679b",
   "metadata": {
    "scrolled": true
   },
   "outputs": [
    {
     "data": {
      "text/plain": [
       "SourcedFrom               0\n",
       "FileTimeUtc               0\n",
       "Botnet                    0\n",
       "SourceIp                  0\n",
       "SourcePort                0\n",
       "SourceIpAsnNr             0\n",
       "TargetIp                  0\n",
       "TargetPort                0\n",
       "Payload                7999\n",
       "SourceIpCountryCode       0\n",
       "SourceIpRegion          378\n",
       "SourceIpCity            378\n",
       "SourceIpPostalCode     7995\n",
       "SourceIpLatitude          0\n",
       "SourceIpLongitude         0\n",
       "SourceIpMetroCode         0\n",
       "SourceIpAreaCode          0\n",
       "HttpRequest             140\n",
       "HttpReferrer           7678\n",
       "HttpUserAgent          7993\n",
       "HttpMethod             7996\n",
       "HttpVersion            7996\n",
       "HttpHost               7996\n",
       "Custom Field 1         7999\n",
       "Custom Field 2         7999\n",
       "Custom Field 3         7999\n",
       "Custom Field 4         7999\n",
       "Custom Field 5         7999\n",
       "Threat Confidence         0\n",
       "dtype: int64"
      ]
     },
     "execution_count": 7,
     "metadata": {},
     "output_type": "execute_result"
    }
   ],
   "source": [
    "# PRINTING NUMBER OF NULL VALUES\n",
    "missing_values_totalcount = dataset.isnull().sum()\n",
    "missing_values_totalcount"
   ]
  },
  {
   "cell_type": "code",
   "execution_count": 8,
   "id": "0ebe3b6c",
   "metadata": {},
   "outputs": [
    {
     "data": {
      "text/html": [
       "<div>\n",
       "<style scoped>\n",
       "    .dataframe tbody tr th:only-of-type {\n",
       "        vertical-align: middle;\n",
       "    }\n",
       "\n",
       "    .dataframe tbody tr th {\n",
       "        vertical-align: top;\n",
       "    }\n",
       "\n",
       "    .dataframe thead th {\n",
       "        text-align: right;\n",
       "    }\n",
       "</style>\n",
       "<table border=\"1\" class=\"dataframe\">\n",
       "  <thead>\n",
       "    <tr style=\"text-align: right;\">\n",
       "      <th></th>\n",
       "      <th>SourcedFrom</th>\n",
       "      <th>FileTimeUtc</th>\n",
       "      <th>Botnet</th>\n",
       "      <th>SourceIp</th>\n",
       "      <th>SourcePort</th>\n",
       "      <th>SourceIpAsnNr</th>\n",
       "      <th>TargetIp</th>\n",
       "      <th>TargetPort</th>\n",
       "      <th>SourceIpRegion</th>\n",
       "      <th>SourceIpCity</th>\n",
       "      <th>SourceIpLatitude</th>\n",
       "      <th>SourceIpLongitude</th>\n",
       "      <th>SourceIpMetroCode</th>\n",
       "      <th>SourceIpAreaCode</th>\n",
       "      <th>HttpRequest</th>\n",
       "      <th>Threat Confidence</th>\n",
       "    </tr>\n",
       "  </thead>\n",
       "  <tbody>\n",
       "    <tr>\n",
       "      <th>0</th>\n",
       "      <td>SinkHoleMessage</td>\n",
       "      <td>1.310000e+17</td>\n",
       "      <td>B106-Jenxcus</td>\n",
       "      <td>219.92.234.26</td>\n",
       "      <td>1044</td>\n",
       "      <td>AS4788</td>\n",
       "      <td>204.95.99.86</td>\n",
       "      <td>4442</td>\n",
       "      <td>12.0</td>\n",
       "      <td>Kajang</td>\n",
       "      <td>2.9927</td>\n",
       "      <td>101.7909</td>\n",
       "      <td>0</td>\n",
       "      <td>0</td>\n",
       "      <td>POST /is-ready HTTP/1.1</td>\n",
       "      <td>High</td>\n",
       "    </tr>\n",
       "    <tr>\n",
       "      <th>1</th>\n",
       "      <td>SinkHoleMessage</td>\n",
       "      <td>1.310000e+17</td>\n",
       "      <td>B106-MULTI</td>\n",
       "      <td>115.135.242.250</td>\n",
       "      <td>57260</td>\n",
       "      <td>AS4788</td>\n",
       "      <td>204.95.99.109</td>\n",
       "      <td>88</td>\n",
       "      <td>3.0</td>\n",
       "      <td>Kota Bharu</td>\n",
       "      <td>6.1333</td>\n",
       "      <td>102.2386</td>\n",
       "      <td>0</td>\n",
       "      <td>0</td>\n",
       "      <td>POST /is-ready HTTP/1.1</td>\n",
       "      <td>High</td>\n",
       "    </tr>\n",
       "    <tr>\n",
       "      <th>2</th>\n",
       "      <td>SinkHoleMessage</td>\n",
       "      <td>1.310000e+17</td>\n",
       "      <td>B106-MULTI</td>\n",
       "      <td>14.1.198.187</td>\n",
       "      <td>58859</td>\n",
       "      <td>AS45960</td>\n",
       "      <td>204.95.99.109</td>\n",
       "      <td>81</td>\n",
       "      <td>6.0</td>\n",
       "      <td>Kuantan</td>\n",
       "      <td>3.8077</td>\n",
       "      <td>103.3260</td>\n",
       "      <td>0</td>\n",
       "      <td>0</td>\n",
       "      <td>POST /is-ready HTTP/1.1</td>\n",
       "      <td>High</td>\n",
       "    </tr>\n",
       "    <tr>\n",
       "      <th>3</th>\n",
       "      <td>SinkHoleMessage</td>\n",
       "      <td>1.310000e+17</td>\n",
       "      <td>B106-Fynloski</td>\n",
       "      <td>60.48.251.19</td>\n",
       "      <td>53586</td>\n",
       "      <td>AS4788</td>\n",
       "      <td>204.95.99.66</td>\n",
       "      <td>5552</td>\n",
       "      <td>12.0</td>\n",
       "      <td>Petaling Jaya</td>\n",
       "      <td>3.0833</td>\n",
       "      <td>101.6500</td>\n",
       "      <td>0</td>\n",
       "      <td>0</td>\n",
       "      <td>280</td>\n",
       "      <td>Low</td>\n",
       "    </tr>\n",
       "    <tr>\n",
       "      <th>4</th>\n",
       "      <td>SinkHoleMessage</td>\n",
       "      <td>1.310000e+17</td>\n",
       "      <td>B106-CB</td>\n",
       "      <td>113.210.7.77</td>\n",
       "      <td>12277</td>\n",
       "      <td>AS9534</td>\n",
       "      <td>204.95.99.31</td>\n",
       "      <td>288</td>\n",
       "      <td>14.0</td>\n",
       "      <td>Kuala Lumpur</td>\n",
       "      <td>3.1667</td>\n",
       "      <td>101.7000</td>\n",
       "      <td>0</td>\n",
       "      <td>0</td>\n",
       "      <td>POST /is-ready HTTP/1.1</td>\n",
       "      <td>High</td>\n",
       "    </tr>\n",
       "  </tbody>\n",
       "</table>\n",
       "</div>"
      ],
      "text/plain": [
       "       SourcedFrom   FileTimeUtc         Botnet         SourceIp  SourcePort  \\\n",
       "0  SinkHoleMessage  1.310000e+17   B106-Jenxcus    219.92.234.26        1044   \n",
       "1  SinkHoleMessage  1.310000e+17     B106-MULTI  115.135.242.250       57260   \n",
       "2  SinkHoleMessage  1.310000e+17     B106-MULTI     14.1.198.187       58859   \n",
       "3  SinkHoleMessage  1.310000e+17  B106-Fynloski     60.48.251.19       53586   \n",
       "4  SinkHoleMessage  1.310000e+17        B106-CB     113.210.7.77       12277   \n",
       "\n",
       "  SourceIpAsnNr       TargetIp  TargetPort  SourceIpRegion   SourceIpCity  \\\n",
       "0        AS4788   204.95.99.86        4442            12.0         Kajang   \n",
       "1        AS4788  204.95.99.109          88             3.0     Kota Bharu   \n",
       "2       AS45960  204.95.99.109          81             6.0        Kuantan   \n",
       "3        AS4788   204.95.99.66        5552            12.0  Petaling Jaya   \n",
       "4        AS9534   204.95.99.31         288            14.0   Kuala Lumpur   \n",
       "\n",
       "   SourceIpLatitude  SourceIpLongitude  SourceIpMetroCode  SourceIpAreaCode  \\\n",
       "0            2.9927           101.7909                  0                 0   \n",
       "1            6.1333           102.2386                  0                 0   \n",
       "2            3.8077           103.3260                  0                 0   \n",
       "3            3.0833           101.6500                  0                 0   \n",
       "4            3.1667           101.7000                  0                 0   \n",
       "\n",
       "               HttpRequest Threat Confidence  \n",
       "0  POST /is-ready HTTP/1.1              High  \n",
       "1  POST /is-ready HTTP/1.1              High  \n",
       "2  POST /is-ready HTTP/1.1              High  \n",
       "3                      280               Low  \n",
       "4  POST /is-ready HTTP/1.1              High  "
      ]
     },
     "execution_count": 8,
     "metadata": {},
     "output_type": "execute_result"
    }
   ],
   "source": [
    "# DROPPING NOT REQUIRED COLUMNS\n",
    "dataset = dataset.drop(['Payload','SourceIpPostalCode','HttpReferrer','HttpUserAgent','HttpUserAgent',\n",
    "        'HttpMethod','HttpVersion','HttpHost','Custom Field 1','Custom Field 2',\n",
    "        'Custom Field 3','Custom Field 4','Custom Field 5','SourceIpCountryCode'],axis=1)\n",
    "dataset.head()\n"
   ]
  },
  {
   "cell_type": "code",
   "execution_count": 9,
   "id": "ecb7e6cc",
   "metadata": {},
   "outputs": [
    {
     "data": {
      "text/plain": [
       "SourcedFrom            0\n",
       "FileTimeUtc            0\n",
       "Botnet                 0\n",
       "SourceIp               0\n",
       "SourcePort             0\n",
       "SourceIpAsnNr          0\n",
       "TargetIp               0\n",
       "TargetPort             0\n",
       "SourceIpRegion       378\n",
       "SourceIpCity         378\n",
       "SourceIpLatitude       0\n",
       "SourceIpLongitude      0\n",
       "SourceIpMetroCode      0\n",
       "SourceIpAreaCode       0\n",
       "HttpRequest          140\n",
       "Threat Confidence      0\n",
       "dtype: int64"
      ]
     },
     "execution_count": 9,
     "metadata": {},
     "output_type": "execute_result"
    }
   ],
   "source": [
    "missing_values_totalcount = dataset.isnull().sum()\n",
    "missing_values_totalcount\n"
   ]
  },
  {
   "cell_type": "code",
   "execution_count": 10,
   "id": "204ba708",
   "metadata": {},
   "outputs": [
    {
     "data": {
      "text/plain": [
       "array(['Kajang', 'Kota Bharu', 'Kuantan', 'Petaling Jaya', 'Kuala Lumpur',\n",
       "       'Penang', 'Kota Kinabalu', 'Melaka', 'Kampar', 'Selangor',\n",
       "       'Bayan Lepas', 'Puchong', 'Nibong Tebal', 'Ayer Keroh',\n",
       "       'Ulu Tiram', 'Ipoh', 'Johor Bahru', 'Seri Kembangan', 'Klang', nan,\n",
       "       'Kuching', 'Segamat', 'Kuala Terengganu', 'Kubang Kerian',\n",
       "       'Skudai', 'Taiping', 'Rawang', 'Batu Caves', 'Kluang', 'Shah Alam',\n",
       "       'Kangar', 'Marang', 'Kemaman', 'Seremban', 'Ampang', 'Cheras',\n",
       "       'Damansara', 'Putrajaya', 'Kulai', 'Bukit Mertajam', 'Batu Gajah',\n",
       "       'Johor', 'Alor Setar', 'Yong Peng', 'Salak Selatan',\n",
       "       'Sungai Petani', 'Mentakab', 'Bachok', 'Teluk Intan',\n",
       "       'Bagan Serai', 'Chemor', 'Butterworth', 'Batu Pahat', 'Sibu',\n",
       "       'Tamparuli', 'Kulim', 'Pahang', 'Bintulu', 'Tebrau',\n",
       "       'Padang Serai', 'Muar', 'Pusing', 'Kepong', 'Pantai', 'Prai',\n",
       "       'Kuala Kangsar', 'Pinang', 'Jelutong', 'Johore Bharu', 'Kota',\n",
       "       'Kuala Lipis', 'Balik Pulau', 'Pasir Gudang', 'Muadzam Shah',\n",
       "       'Bandar', 'Lunas', 'Ayer Hitam', 'Gerik', 'Perai', 'Jasin',\n",
       "       'Lahad Datu', 'Jerantut', 'Pontian', 'Tronoh', 'Sandakan',\n",
       "       'Ayer Itam', 'Sepang', 'Nilai', 'Jitra', 'Keningau',\n",
       "       'Tanjung Tualang', 'Cameron Highlands', 'Dungun', 'Jenjarom',\n",
       "       'Bharu', 'Temerloh', 'Bandar Baru Bangi', 'Gurun', 'Bahau',\n",
       "       'Petaling', 'Kota Tinggi', 'Baru', 'Jerteh'], dtype=object)"
      ]
     },
     "execution_count": 10,
     "metadata": {},
     "output_type": "execute_result"
    }
   ],
   "source": [
    "# UNIQUE VALUES\n",
    "dataset['SourceIpCity'].unique()"
   ]
  },
  {
   "cell_type": "code",
   "execution_count": 11,
   "id": "cde03165",
   "metadata": {},
   "outputs": [
    {
     "data": {
      "text/plain": [
       "array(['Kajang', 'Kota Bharu', 'Kuantan', 'Petaling Jaya', 'Kuala Lumpur',\n",
       "       'Penang', 'Kota Kinabalu', 'Melaka', 'Kampar', 'Selangor',\n",
       "       'Bayan Lepas', 'Puchong', 'Nibong Tebal', 'Ayer Keroh',\n",
       "       'Ulu Tiram', 'Ipoh', 'Johor Bahru', 'Seri Kembangan', 'Klang',\n",
       "       'not available', 'Kuching', 'Segamat', 'Kuala Terengganu',\n",
       "       'Kubang Kerian', 'Skudai', 'Taiping', 'Rawang', 'Batu Caves',\n",
       "       'Kluang', 'Shah Alam', 'Kangar', 'Marang', 'Kemaman', 'Seremban',\n",
       "       'Ampang', 'Cheras', 'Damansara', 'Putrajaya', 'Kulai',\n",
       "       'Bukit Mertajam', 'Batu Gajah', 'Johor', 'Alor Setar', 'Yong Peng',\n",
       "       'Salak Selatan', 'Sungai Petani', 'Mentakab', 'Bachok',\n",
       "       'Teluk Intan', 'Bagan Serai', 'Chemor', 'Butterworth',\n",
       "       'Batu Pahat', 'Sibu', 'Tamparuli', 'Kulim', 'Pahang', 'Bintulu',\n",
       "       'Tebrau', 'Padang Serai', 'Muar', 'Pusing', 'Kepong', 'Pantai',\n",
       "       'Prai', 'Kuala Kangsar', 'Pinang', 'Jelutong', 'Johore Bharu',\n",
       "       'Kota', 'Kuala Lipis', 'Balik Pulau', 'Pasir Gudang',\n",
       "       'Muadzam Shah', 'Bandar', 'Lunas', 'Ayer Hitam', 'Gerik', 'Perai',\n",
       "       'Jasin', 'Lahad Datu', 'Jerantut', 'Pontian', 'Tronoh', 'Sandakan',\n",
       "       'Ayer Itam', 'Sepang', 'Nilai', 'Jitra', 'Keningau',\n",
       "       'Tanjung Tualang', 'Cameron Highlands', 'Dungun', 'Jenjarom',\n",
       "       'Bharu', 'Temerloh', 'Bandar Baru Bangi', 'Gurun', 'Bahau',\n",
       "       'Petaling', 'Kota Tinggi', 'Baru', 'Jerteh'], dtype=object)"
      ]
     },
     "execution_count": 11,
     "metadata": {},
     "output_type": "execute_result"
    }
   ],
   "source": [
    "dataset['SourceIpCity']=dataset['SourceIpCity'].fillna('not available')\n",
    "dataset['SourceIpCity'].unique()\n"
   ]
  },
  {
   "cell_type": "code",
   "execution_count": 12,
   "id": "176d7045",
   "metadata": {},
   "outputs": [
    {
     "data": {
      "text/plain": [
       "0    LEGIT\n",
       "1    LEGIT\n",
       "2    LEGIT\n",
       "3      NOT\n",
       "4    LEGIT\n",
       "Name: PostLegit, dtype: object"
      ]
     },
     "execution_count": 12,
     "metadata": {},
     "output_type": "execute_result"
    }
   ],
   "source": [
    "# Legit and Non-Legit\n",
    "requests = []\n",
    "for i in range(dataset.shape[0]):\n",
    "    try:\n",
    "        if dataset.HttpRequest.iloc[i].lower().find('post') >= 0:\n",
    "            requests.append('LEGIT')\n",
    "        else:\n",
    "            requests.append('NOT')\n",
    "    except:\n",
    "        requests.append('NOT')\n",
    "        \n",
    "dataset['PostLegit'] = requests\n",
    "dataset.PostLegit.head()\n"
   ]
  },
  {
   "cell_type": "code",
   "execution_count": 13,
   "id": "175f86c7",
   "metadata": {},
   "outputs": [
    {
     "data": {
      "text/plain": [
       "0    219.X.X.X\n",
       "1    115.X.X.X\n",
       "2     14.X.X.X\n",
       "3     60.X.X.X\n",
       "4    113.X.X.X\n",
       "Name: FirstSource, dtype: object"
      ]
     },
     "execution_count": 13,
     "metadata": {},
     "output_type": "execute_result"
    }
   ],
   "source": [
    "# SIMPLIFYING DATASET\n",
    "first_source, first_num = [], []\n",
    "for i in range(dataset.shape[0]):\n",
    "    first_source.append(dataset['SourceIp'].iloc[i].split('.')[0]+'.X.X.X')\n",
    "    first_num.append(int(dataset['SourceIp'].iloc[i].split('.')[0]))\n",
    "dataset['FirstSource'] = first_source\n",
    "dataset['FirstNum'] = first_num\n",
    "dataset['FirstSource'].head()\n"
   ]
  },
  {
   "cell_type": "code",
   "execution_count": 14,
   "id": "ff151293",
   "metadata": {},
   "outputs": [
    {
     "data": {
      "text/plain": [
       "0    1\n",
       "1    1\n",
       "2    1\n",
       "3    0\n",
       "4    1\n",
       "Name: threat_int, dtype: int64"
      ]
     },
     "execution_count": 14,
     "metadata": {},
     "output_type": "execute_result"
    }
   ],
   "source": [
    "#TRANSFORMING OUTPUT COLUMN\n",
    "from sklearn.preprocessing import LabelEncoder\n",
    "labels=[]\n",
    "for i in range(dataset.shape[0]):\n",
    "    if dataset['Threat Confidence'].iloc[i]=='High':\n",
    "        labels.append(1)\n",
    "    else:\n",
    "        labels.append(0)\n",
    "dataset['threat_int']=labels\n",
    "dataset['threat_int'].head()"
   ]
  },
  {
   "cell_type": "code",
   "execution_count": 15,
   "id": "7549ad23",
   "metadata": {},
   "outputs": [
    {
     "data": {
      "text/html": [
       "<div>\n",
       "<style scoped>\n",
       "    .dataframe tbody tr th:only-of-type {\n",
       "        vertical-align: middle;\n",
       "    }\n",
       "\n",
       "    .dataframe tbody tr th {\n",
       "        vertical-align: top;\n",
       "    }\n",
       "\n",
       "    .dataframe thead th {\n",
       "        text-align: right;\n",
       "    }\n",
       "</style>\n",
       "<table border=\"1\" class=\"dataframe\">\n",
       "  <thead>\n",
       "    <tr style=\"text-align: right;\">\n",
       "      <th></th>\n",
       "      <th>FileTimeUtc</th>\n",
       "      <th>SourcePort</th>\n",
       "      <th>TargetPort</th>\n",
       "      <th>SourceIpRegion</th>\n",
       "      <th>SourceIpLatitude</th>\n",
       "      <th>SourceIpLongitude</th>\n",
       "      <th>SourceIpMetroCode</th>\n",
       "      <th>SourceIpAreaCode</th>\n",
       "      <th>FirstNum</th>\n",
       "      <th>threat_int</th>\n",
       "    </tr>\n",
       "  </thead>\n",
       "  <tbody>\n",
       "    <tr>\n",
       "      <th>count</th>\n",
       "      <td>7.999000e+03</td>\n",
       "      <td>7999.000000</td>\n",
       "      <td>7999.000000</td>\n",
       "      <td>7621.000000</td>\n",
       "      <td>7999.000000</td>\n",
       "      <td>7999.000000</td>\n",
       "      <td>7999.0</td>\n",
       "      <td>7999.0</td>\n",
       "      <td>7999.000000</td>\n",
       "      <td>7999.000000</td>\n",
       "    </tr>\n",
       "    <tr>\n",
       "      <th>mean</th>\n",
       "      <td>1.310000e+17</td>\n",
       "      <td>36095.886236</td>\n",
       "      <td>1624.576572</td>\n",
       "      <td>9.906049</td>\n",
       "      <td>3.507096</td>\n",
       "      <td>102.721701</td>\n",
       "      <td>0.0</td>\n",
       "      <td>0.0</td>\n",
       "      <td>134.317915</td>\n",
       "      <td>0.760220</td>\n",
       "    </tr>\n",
       "    <tr>\n",
       "      <th>std</th>\n",
       "      <td>0.000000e+00</td>\n",
       "      <td>22053.655924</td>\n",
       "      <td>2129.280844</td>\n",
       "      <td>4.374148</td>\n",
       "      <td>1.238240</td>\n",
       "      <td>3.372854</td>\n",
       "      <td>0.0</td>\n",
       "      <td>0.0</td>\n",
       "      <td>62.409527</td>\n",
       "      <td>0.426976</td>\n",
       "    </tr>\n",
       "    <tr>\n",
       "      <th>min</th>\n",
       "      <td>1.310000e+17</td>\n",
       "      <td>1044.000000</td>\n",
       "      <td>4.000000</td>\n",
       "      <td>1.000000</td>\n",
       "      <td>1.462000</td>\n",
       "      <td>100.198600</td>\n",
       "      <td>0.0</td>\n",
       "      <td>0.0</td>\n",
       "      <td>1.000000</td>\n",
       "      <td>0.000000</td>\n",
       "    </tr>\n",
       "    <tr>\n",
       "      <th>25%</th>\n",
       "      <td>1.310000e+17</td>\n",
       "      <td>12684.000000</td>\n",
       "      <td>88.000000</td>\n",
       "      <td>7.000000</td>\n",
       "      <td>3.016700</td>\n",
       "      <td>101.616700</td>\n",
       "      <td>0.0</td>\n",
       "      <td>0.0</td>\n",
       "      <td>103.000000</td>\n",
       "      <td>1.000000</td>\n",
       "    </tr>\n",
       "    <tr>\n",
       "      <th>50%</th>\n",
       "      <td>1.310000e+17</td>\n",
       "      <td>49317.000000</td>\n",
       "      <td>991.000000</td>\n",
       "      <td>12.000000</td>\n",
       "      <td>3.166700</td>\n",
       "      <td>101.700000</td>\n",
       "      <td>0.0</td>\n",
       "      <td>0.0</td>\n",
       "      <td>123.000000</td>\n",
       "      <td>1.000000</td>\n",
       "    </tr>\n",
       "    <tr>\n",
       "      <th>75%</th>\n",
       "      <td>1.310000e+17</td>\n",
       "      <td>54613.000000</td>\n",
       "      <td>1998.000000</td>\n",
       "      <td>14.000000</td>\n",
       "      <td>4.469200</td>\n",
       "      <td>102.240500</td>\n",
       "      <td>0.0</td>\n",
       "      <td>0.0</td>\n",
       "      <td>183.000000</td>\n",
       "      <td>1.000000</td>\n",
       "    </tr>\n",
       "    <tr>\n",
       "      <th>max</th>\n",
       "      <td>1.310000e+17</td>\n",
       "      <td>65491.000000</td>\n",
       "      <td>14725.000000</td>\n",
       "      <td>17.000000</td>\n",
       "      <td>6.441400</td>\n",
       "      <td>118.327000</td>\n",
       "      <td>0.0</td>\n",
       "      <td>0.0</td>\n",
       "      <td>219.000000</td>\n",
       "      <td>1.000000</td>\n",
       "    </tr>\n",
       "  </tbody>\n",
       "</table>\n",
       "</div>"
      ],
      "text/plain": [
       "        FileTimeUtc    SourcePort    TargetPort  SourceIpRegion  \\\n",
       "count  7.999000e+03   7999.000000   7999.000000     7621.000000   \n",
       "mean   1.310000e+17  36095.886236   1624.576572        9.906049   \n",
       "std    0.000000e+00  22053.655924   2129.280844        4.374148   \n",
       "min    1.310000e+17   1044.000000      4.000000        1.000000   \n",
       "25%    1.310000e+17  12684.000000     88.000000        7.000000   \n",
       "50%    1.310000e+17  49317.000000    991.000000       12.000000   \n",
       "75%    1.310000e+17  54613.000000   1998.000000       14.000000   \n",
       "max    1.310000e+17  65491.000000  14725.000000       17.000000   \n",
       "\n",
       "       SourceIpLatitude  SourceIpLongitude  SourceIpMetroCode  \\\n",
       "count       7999.000000        7999.000000             7999.0   \n",
       "mean           3.507096         102.721701                0.0   \n",
       "std            1.238240           3.372854                0.0   \n",
       "min            1.462000         100.198600                0.0   \n",
       "25%            3.016700         101.616700                0.0   \n",
       "50%            3.166700         101.700000                0.0   \n",
       "75%            4.469200         102.240500                0.0   \n",
       "max            6.441400         118.327000                0.0   \n",
       "\n",
       "       SourceIpAreaCode     FirstNum   threat_int  \n",
       "count            7999.0  7999.000000  7999.000000  \n",
       "mean                0.0   134.317915     0.760220  \n",
       "std                 0.0    62.409527     0.426976  \n",
       "min                 0.0     1.000000     0.000000  \n",
       "25%                 0.0   103.000000     1.000000  \n",
       "50%                 0.0   123.000000     1.000000  \n",
       "75%                 0.0   183.000000     1.000000  \n",
       "max                 0.0   219.000000     1.000000  "
      ]
     },
     "execution_count": 15,
     "metadata": {},
     "output_type": "execute_result"
    }
   ],
   "source": [
    "#UNDERSTANDING THE DATA\n",
    "dataset.describe()\n",
    "\n"
   ]
  },
  {
   "cell_type": "code",
   "execution_count": 16,
   "id": "d9309b91",
   "metadata": {},
   "outputs": [
    {
     "name": "stdout",
     "output_type": "stream",
     "text": [
      "<class 'pandas.core.frame.DataFrame'>\n",
      "RangeIndex: 7999 entries, 0 to 7998\n",
      "Data columns (total 20 columns):\n",
      " #   Column             Non-Null Count  Dtype  \n",
      "---  ------             --------------  -----  \n",
      " 0   SourcedFrom        7999 non-null   object \n",
      " 1   FileTimeUtc        7999 non-null   float64\n",
      " 2   Botnet             7999 non-null   object \n",
      " 3   SourceIp           7999 non-null   object \n",
      " 4   SourcePort         7999 non-null   int64  \n",
      " 5   SourceIpAsnNr      7999 non-null   object \n",
      " 6   TargetIp           7999 non-null   object \n",
      " 7   TargetPort         7999 non-null   int64  \n",
      " 8   SourceIpRegion     7621 non-null   float64\n",
      " 9   SourceIpCity       7999 non-null   object \n",
      " 10  SourceIpLatitude   7999 non-null   float64\n",
      " 11  SourceIpLongitude  7999 non-null   float64\n",
      " 12  SourceIpMetroCode  7999 non-null   int64  \n",
      " 13  SourceIpAreaCode   7999 non-null   int64  \n",
      " 14  HttpRequest        7859 non-null   object \n",
      " 15  Threat Confidence  7999 non-null   object \n",
      " 16  PostLegit          7999 non-null   object \n",
      " 17  FirstSource        7999 non-null   object \n",
      " 18  FirstNum           7999 non-null   int64  \n",
      " 19  threat_int         7999 non-null   int64  \n",
      "dtypes: float64(4), int64(6), object(10)\n",
      "memory usage: 1.2+ MB\n"
     ]
    }
   ],
   "source": [
    "dataset.info()\n"
   ]
  },
  {
   "cell_type": "code",
   "execution_count": 17,
   "id": "b4fd303a",
   "metadata": {},
   "outputs": [
    {
     "data": {
      "text/plain": [
       "(7999, 20)"
      ]
     },
     "execution_count": 17,
     "metadata": {},
     "output_type": "execute_result"
    }
   ],
   "source": [
    "dataset.shape"
   ]
  },
  {
   "cell_type": "code",
   "execution_count": 18,
   "id": "7f27eb04",
   "metadata": {},
   "outputs": [
    {
     "data": {
      "text/plain": [
       "High    6081\n",
       "Low     1918\n",
       "Name: Threat Confidence, dtype: int64"
      ]
     },
     "execution_count": 18,
     "metadata": {},
     "output_type": "execute_result"
    }
   ],
   "source": [
    "#COUNT OF THREAT CONFIDENCE\n",
    "dataset['Threat Confidence'].value_counts()\n"
   ]
  },
  {
   "cell_type": "code",
   "execution_count": 19,
   "id": "877c264c",
   "metadata": {},
   "outputs": [
    {
     "data": {
      "text/html": [
       "<div>\n",
       "<style scoped>\n",
       "    .dataframe tbody tr th:only-of-type {\n",
       "        vertical-align: middle;\n",
       "    }\n",
       "\n",
       "    .dataframe tbody tr th {\n",
       "        vertical-align: top;\n",
       "    }\n",
       "\n",
       "    .dataframe thead th {\n",
       "        text-align: right;\n",
       "    }\n",
       "</style>\n",
       "<table border=\"1\" class=\"dataframe\">\n",
       "  <thead>\n",
       "    <tr style=\"text-align: right;\">\n",
       "      <th></th>\n",
       "      <th>SourcedFrom</th>\n",
       "      <th>FileTimeUtc</th>\n",
       "      <th>Botnet</th>\n",
       "      <th>SourceIp</th>\n",
       "      <th>SourcePort</th>\n",
       "      <th>SourceIpAsnNr</th>\n",
       "      <th>TargetIp</th>\n",
       "      <th>TargetPort</th>\n",
       "      <th>SourceIpRegion</th>\n",
       "      <th>SourceIpCity</th>\n",
       "      <th>SourceIpLatitude</th>\n",
       "      <th>SourceIpLongitude</th>\n",
       "      <th>SourceIpMetroCode</th>\n",
       "      <th>SourceIpAreaCode</th>\n",
       "      <th>HttpRequest</th>\n",
       "      <th>Threat Confidence</th>\n",
       "      <th>PostLegit</th>\n",
       "      <th>FirstSource</th>\n",
       "      <th>FirstNum</th>\n",
       "      <th>threat_int</th>\n",
       "    </tr>\n",
       "  </thead>\n",
       "  <tbody>\n",
       "    <tr>\n",
       "      <th>0</th>\n",
       "      <td>SinkHoleMessage</td>\n",
       "      <td>1.310000e+17</td>\n",
       "      <td>B106-Jenxcus</td>\n",
       "      <td>219.92.234.26</td>\n",
       "      <td>1044</td>\n",
       "      <td>AS4788</td>\n",
       "      <td>204.95.99.86</td>\n",
       "      <td>4442</td>\n",
       "      <td>12.0</td>\n",
       "      <td>Kajang</td>\n",
       "      <td>2.9927</td>\n",
       "      <td>101.7909</td>\n",
       "      <td>0</td>\n",
       "      <td>0</td>\n",
       "      <td>POST /is-ready HTTP/1.1</td>\n",
       "      <td>High</td>\n",
       "      <td>LEGIT</td>\n",
       "      <td>219.X.X.X</td>\n",
       "      <td>219</td>\n",
       "      <td>1</td>\n",
       "    </tr>\n",
       "    <tr>\n",
       "      <th>1</th>\n",
       "      <td>SinkHoleMessage</td>\n",
       "      <td>1.310000e+17</td>\n",
       "      <td>B106-MULTI</td>\n",
       "      <td>115.135.242.250</td>\n",
       "      <td>57260</td>\n",
       "      <td>AS4788</td>\n",
       "      <td>204.95.99.109</td>\n",
       "      <td>88</td>\n",
       "      <td>3.0</td>\n",
       "      <td>Kota Bharu</td>\n",
       "      <td>6.1333</td>\n",
       "      <td>102.2386</td>\n",
       "      <td>0</td>\n",
       "      <td>0</td>\n",
       "      <td>POST /is-ready HTTP/1.1</td>\n",
       "      <td>High</td>\n",
       "      <td>LEGIT</td>\n",
       "      <td>115.X.X.X</td>\n",
       "      <td>115</td>\n",
       "      <td>1</td>\n",
       "    </tr>\n",
       "    <tr>\n",
       "      <th>2</th>\n",
       "      <td>SinkHoleMessage</td>\n",
       "      <td>1.310000e+17</td>\n",
       "      <td>B106-MULTI</td>\n",
       "      <td>14.1.198.187</td>\n",
       "      <td>58859</td>\n",
       "      <td>AS45960</td>\n",
       "      <td>204.95.99.109</td>\n",
       "      <td>81</td>\n",
       "      <td>6.0</td>\n",
       "      <td>Kuantan</td>\n",
       "      <td>3.8077</td>\n",
       "      <td>103.3260</td>\n",
       "      <td>0</td>\n",
       "      <td>0</td>\n",
       "      <td>POST /is-ready HTTP/1.1</td>\n",
       "      <td>High</td>\n",
       "      <td>LEGIT</td>\n",
       "      <td>14.X.X.X</td>\n",
       "      <td>14</td>\n",
       "      <td>1</td>\n",
       "    </tr>\n",
       "    <tr>\n",
       "      <th>3</th>\n",
       "      <td>SinkHoleMessage</td>\n",
       "      <td>1.310000e+17</td>\n",
       "      <td>B106-Fynloski</td>\n",
       "      <td>60.48.251.19</td>\n",
       "      <td>53586</td>\n",
       "      <td>AS4788</td>\n",
       "      <td>204.95.99.66</td>\n",
       "      <td>5552</td>\n",
       "      <td>12.0</td>\n",
       "      <td>Petaling Jaya</td>\n",
       "      <td>3.0833</td>\n",
       "      <td>101.6500</td>\n",
       "      <td>0</td>\n",
       "      <td>0</td>\n",
       "      <td>280</td>\n",
       "      <td>Low</td>\n",
       "      <td>NOT</td>\n",
       "      <td>60.X.X.X</td>\n",
       "      <td>60</td>\n",
       "      <td>0</td>\n",
       "    </tr>\n",
       "    <tr>\n",
       "      <th>4</th>\n",
       "      <td>SinkHoleMessage</td>\n",
       "      <td>1.310000e+17</td>\n",
       "      <td>B106-CB</td>\n",
       "      <td>113.210.7.77</td>\n",
       "      <td>12277</td>\n",
       "      <td>AS9534</td>\n",
       "      <td>204.95.99.31</td>\n",
       "      <td>288</td>\n",
       "      <td>14.0</td>\n",
       "      <td>Kuala Lumpur</td>\n",
       "      <td>3.1667</td>\n",
       "      <td>101.7000</td>\n",
       "      <td>0</td>\n",
       "      <td>0</td>\n",
       "      <td>POST /is-ready HTTP/1.1</td>\n",
       "      <td>High</td>\n",
       "      <td>LEGIT</td>\n",
       "      <td>113.X.X.X</td>\n",
       "      <td>113</td>\n",
       "      <td>1</td>\n",
       "    </tr>\n",
       "  </tbody>\n",
       "</table>\n",
       "</div>"
      ],
      "text/plain": [
       "       SourcedFrom   FileTimeUtc         Botnet         SourceIp  SourcePort  \\\n",
       "0  SinkHoleMessage  1.310000e+17   B106-Jenxcus    219.92.234.26        1044   \n",
       "1  SinkHoleMessage  1.310000e+17     B106-MULTI  115.135.242.250       57260   \n",
       "2  SinkHoleMessage  1.310000e+17     B106-MULTI     14.1.198.187       58859   \n",
       "3  SinkHoleMessage  1.310000e+17  B106-Fynloski     60.48.251.19       53586   \n",
       "4  SinkHoleMessage  1.310000e+17        B106-CB     113.210.7.77       12277   \n",
       "\n",
       "  SourceIpAsnNr       TargetIp  TargetPort  SourceIpRegion   SourceIpCity  \\\n",
       "0        AS4788   204.95.99.86        4442            12.0         Kajang   \n",
       "1        AS4788  204.95.99.109          88             3.0     Kota Bharu   \n",
       "2       AS45960  204.95.99.109          81             6.0        Kuantan   \n",
       "3        AS4788   204.95.99.66        5552            12.0  Petaling Jaya   \n",
       "4        AS9534   204.95.99.31         288            14.0   Kuala Lumpur   \n",
       "\n",
       "   SourceIpLatitude  SourceIpLongitude  SourceIpMetroCode  SourceIpAreaCode  \\\n",
       "0            2.9927           101.7909                  0                 0   \n",
       "1            6.1333           102.2386                  0                 0   \n",
       "2            3.8077           103.3260                  0                 0   \n",
       "3            3.0833           101.6500                  0                 0   \n",
       "4            3.1667           101.7000                  0                 0   \n",
       "\n",
       "               HttpRequest Threat Confidence PostLegit FirstSource  FirstNum  \\\n",
       "0  POST /is-ready HTTP/1.1              High     LEGIT   219.X.X.X       219   \n",
       "1  POST /is-ready HTTP/1.1              High     LEGIT   115.X.X.X       115   \n",
       "2  POST /is-ready HTTP/1.1              High     LEGIT    14.X.X.X        14   \n",
       "3                      280               Low       NOT    60.X.X.X        60   \n",
       "4  POST /is-ready HTTP/1.1              High     LEGIT   113.X.X.X       113   \n",
       "\n",
       "   threat_int  \n",
       "0           1  \n",
       "1           1  \n",
       "2           1  \n",
       "3           0  \n",
       "4           1  "
      ]
     },
     "execution_count": 19,
     "metadata": {},
     "output_type": "execute_result"
    }
   ],
   "source": [
    "dataset.head()"
   ]
  },
  {
   "cell_type": "code",
   "execution_count": 20,
   "id": "eb2ba398",
   "metadata": {},
   "outputs": [
    {
     "data": {
      "text/plain": [
       "<Axes: xlabel='SourceIpAreaCode', ylabel='count'>"
      ]
     },
     "execution_count": 20,
     "metadata": {},
     "output_type": "execute_result"
    },
    {
     "data": {
      "image/png": "[encoded data removed]",
      "text/plain": [
       "<Figure size 640x480 with 1 Axes>"
      ]
     },
     "metadata": {},
     "output_type": "display_data"
    }
   ],
   "source": [
    "#Study the effect of features on Threat Confidence\n",
    "#Effect of Source Ip Area Code  on Threat Confidence\n",
    "sns.countplot(data=dataset,x='SourceIpAreaCode',hue='Threat Confidence')\n"
   ]
  },
  {
   "cell_type": "code",
   "execution_count": 21,
   "id": "f3029b39",
   "metadata": {},
   "outputs": [
    {
     "data": {
      "text/plain": [
       "<Axes: xlabel='SourceIpAreaCode', ylabel='count'>"
      ]
     },
     "execution_count": 21,
     "metadata": {},
     "output_type": "execute_result"
    },
    {
     "data": {
      "image/png": "[encoded data removed]",
      "text/plain": [
       "<Figure size 640x480 with 1 Axes>"
      ]
     },
     "metadata": {},
     "output_type": "display_data"
    }
   ],
   "source": [
    "#Effect of Source Ip Metro Code on Threat Confidence\n",
    "sns.countplot(data=dataset,x='SourceIpAreaCode',hue='Threat Confidence')\n"
   ]
  },
  {
   "cell_type": "code",
   "execution_count": 22,
   "id": "d95b13d6",
   "metadata": {},
   "outputs": [
    {
     "data": {
      "text/plain": [
       "<Axes: xlabel='SourceIpLongitude', ylabel='count'>"
      ]
     },
     "execution_count": 22,
     "metadata": {},
     "output_type": "execute_result"
    },
    {
     "data": {
      "image/png": "[encoded data removed]",
      "text/plain": [
       "<Figure size 640x480 with 1 Axes>"
      ]
     },
     "metadata": {},
     "output_type": "display_data"
    }
   ],
   "source": [
    "#Effect of Source Ip Longitude on Threat Confidence\n",
    "sns.countplot(data=dataset,x='SourceIpLongitude',hue='Threat Confidence')\n"
   ]
  },
  {
   "cell_type": "code",
   "execution_count": 23,
   "id": "1db894b5",
   "metadata": {},
   "outputs": [
    {
     "data": {
      "text/plain": [
       "<Axes: xlabel='SourceIpLatitude', ylabel='count'>"
      ]
     },
     "execution_count": 23,
     "metadata": {},
     "output_type": "execute_result"
    },
    {
     "data": {
      "image/png": "[encoded data removed]",
      "text/plain": [
       "<Figure size 640x480 with 1 Axes>"
      ]
     },
     "metadata": {},
     "output_type": "display_data"
    }
   ],
   "source": [
    "#Effect of Source Ip Latitude on Threat Confidence\n",
    "sns.countplot(data=dataset,x='SourceIpLatitude',hue='Threat Confidence')\n"
   ]
  },
  {
   "cell_type": "code",
   "execution_count": 24,
   "id": "14dc5ad2",
   "metadata": {},
   "outputs": [
    {
     "data": {
      "text/plain": [
       "<Axes: xlabel='SourceIpRegion', ylabel='count'>"
      ]
     },
     "execution_count": 24,
     "metadata": {},
     "output_type": "execute_result"
    },
    {
     "data": {
      "image/png": "[encoded data removed]",
      "text/plain": [
       "<Figure size 640x480 with 1 Axes>"
      ]
     },
     "metadata": {},
     "output_type": "display_data"
    }
   ],
   "source": [
    "#Effect of Source Ip Region on Threat Confidence\n",
    "sns.countplot(data=dataset,x='SourceIpRegion',hue='Threat Confidence')\n"
   ]
  },
  {
   "cell_type": "code",
   "execution_count": 25,
   "id": "3a178a36",
   "metadata": {},
   "outputs": [
    {
     "data": {
      "text/plain": [
       "<Axes: xlabel='TargetPort', ylabel='count'>"
      ]
     },
     "execution_count": 25,
     "metadata": {},
     "output_type": "execute_result"
    },
    {
     "data": {
      "image/png": "[encoded data removed]",
      "text/plain": [
       "<Figure size 640x480 with 1 Axes>"
      ]
     },
     "metadata": {},
     "output_type": "display_data"
    }
   ],
   "source": [
    "#Effect of Target Port on Threat Confidence\n",
    "sns.countplot(data=dataset,x='TargetPort',hue='Threat Confidence')\n"
   ]
  },
  {
   "cell_type": "code",
   "execution_count": 26,
   "id": "d0af5e19",
   "metadata": {},
   "outputs": [
    {
     "data": {
      "text/plain": [
       "<Axes: xlabel='TargetIp', ylabel='count'>"
      ]
     },
     "execution_count": 26,
     "metadata": {},
     "output_type": "execute_result"
    },
    {
     "data": {
      "image/png": "[encoded data removed]",
      "text/plain": [
       "<Figure size 640x480 with 1 Axes>"
      ]
     },
     "metadata": {},
     "output_type": "display_data"
    }
   ],
   "source": [
    "#Effect of Target Ip on Threat Confidence\n",
    "sns.countplot(data=dataset,x='TargetIp',hue='Threat Confidence')\n"
   ]
  },
  {
   "cell_type": "code",
   "execution_count": 27,
   "id": "911b715f",
   "metadata": {},
   "outputs": [
    {
     "data": {
      "text/plain": [
       "<Axes: xlabel='SourceIpAsnNr', ylabel='count'>"
      ]
     },
     "execution_count": 27,
     "metadata": {},
     "output_type": "execute_result"
    },
    {
     "data": {
      "image/png": "[encoded data removed]",
      "text/plain": [
       "<Figure size 640x480 with 1 Axes>"
      ]
     },
     "metadata": {},
     "output_type": "display_data"
    }
   ],
   "source": [
    "#Effect of Target Ip on Threat Confidence\n",
    "sns.countplot(data=dataset,x='SourceIpAsnNr',hue='Threat Confidence')\n"
   ]
  },
  {
   "cell_type": "code",
   "execution_count": 50,
   "id": "4a088d3b",
   "metadata": {},
   "outputs": [
    {
     "data": {
      "text/plain": [
       "<Axes: xlabel='SourcePort', ylabel='count'>"
      ]
     },
     "execution_count": 50,
     "metadata": {},
     "output_type": "execute_result"
    },
    {
     "data": {
      "image/png": "[encoded data removed]",
      "text/plain": [
       "<Figure size 640x480 with 1 Axes>"
      ]
     },
     "metadata": {},
     "output_type": "display_data"
    }
   ],
   "source": [
    "#Effect of Source Port on Threat Confidence\n",
    "sns.countplot(data=dataset,x='SourcePort',hue='Threat Confidence')\n",
    "\n"
   ]
  },
  {
   "cell_type": "code",
   "execution_count": 47,
   "id": "ab4d513e",
   "metadata": {},
   "outputs": [
    {
     "name": "stdout",
     "output_type": "stream",
     "text": [
      "<class 'pandas.core.frame.DataFrame'>\n",
      "RangeIndex: 7999 entries, 0 to 7998\n",
      "Data columns (total 20 columns):\n",
      " #   Column             Non-Null Count  Dtype  \n",
      "---  ------             --------------  -----  \n",
      " 0   SourcedFrom        7999 non-null   object \n",
      " 1   FileTimeUtc        7999 non-null   float64\n",
      " 2   Botnet             7999 non-null   object \n",
      " 3   SourceIp           7999 non-null   object \n",
      " 4   SourcePort         7999 non-null   int64  \n",
      " 5   SourceIpAsnNr      7999 non-null   object \n",
      " 6   TargetIp           7999 non-null   object \n",
      " 7   TargetPort         7999 non-null   int64  \n",
      " 8   SourceIpRegion     7621 non-null   float64\n",
      " 9   SourceIpCity       7999 non-null   object \n",
      " 10  SourceIpLatitude   7999 non-null   float64\n",
      " 11  SourceIpLongitude  7999 non-null   float64\n",
      " 12  SourceIpMetroCode  7999 non-null   int64  \n",
      " 13  SourceIpAreaCode   7999 non-null   int64  \n",
      " 14  HttpRequest        7859 non-null   object \n",
      " 15  Threat Confidence  7999 non-null   object \n",
      " 16  PostLegit          7999 non-null   object \n",
      " 17  FirstSource        7999 non-null   object \n",
      " 18  FirstNum           7999 non-null   int64  \n",
      " 19  threat_int         7999 non-null   int64  \n",
      "dtypes: float64(4), int64(6), object(10)\n",
      "memory usage: 1.2+ MB\n"
     ]
    }
   ],
   "source": [
    "#DATA PREPROCESSING\n",
    "dataset.info()\n"
   ]
  },
  {
   "cell_type": "code",
   "execution_count": 48,
   "id": "fe44699a",
   "metadata": {},
   "outputs": [
    {
     "data": {
      "text/html": [
       "<div>\n",
       "<style scoped>\n",
       "    .dataframe tbody tr th:only-of-type {\n",
       "        vertical-align: middle;\n",
       "    }\n",
       "\n",
       "    .dataframe tbody tr th {\n",
       "        vertical-align: top;\n",
       "    }\n",
       "\n",
       "    .dataframe thead th {\n",
       "        text-align: right;\n",
       "    }\n",
       "</style>\n",
       "<table border=\"1\" class=\"dataframe\">\n",
       "  <thead>\n",
       "    <tr style=\"text-align: right;\">\n",
       "      <th></th>\n",
       "      <th>Botnet</th>\n",
       "      <th>FirstSource</th>\n",
       "      <th>SourceIpCity</th>\n",
       "      <th>PostLegit</th>\n",
       "      <th>TargetPort</th>\n",
       "      <th>TargetIp</th>\n",
       "      <th>SourceIpAsnNr</th>\n",
       "      <th>SourcePort</th>\n",
       "    </tr>\n",
       "  </thead>\n",
       "  <tbody>\n",
       "    <tr>\n",
       "      <th>0</th>\n",
       "      <td>B106-Jenxcus</td>\n",
       "      <td>219.X.X.X</td>\n",
       "      <td>Kajang</td>\n",
       "      <td>LEGIT</td>\n",
       "      <td>4442</td>\n",
       "      <td>204.95.99.86</td>\n",
       "      <td>AS4788</td>\n",
       "      <td>1044</td>\n",
       "    </tr>\n",
       "    <tr>\n",
       "      <th>1</th>\n",
       "      <td>B106-MULTI</td>\n",
       "      <td>115.X.X.X</td>\n",
       "      <td>Kota Bharu</td>\n",
       "      <td>LEGIT</td>\n",
       "      <td>88</td>\n",
       "      <td>204.95.99.109</td>\n",
       "      <td>AS4788</td>\n",
       "      <td>57260</td>\n",
       "    </tr>\n",
       "    <tr>\n",
       "      <th>2</th>\n",
       "      <td>B106-MULTI</td>\n",
       "      <td>14.X.X.X</td>\n",
       "      <td>Kuantan</td>\n",
       "      <td>LEGIT</td>\n",
       "      <td>81</td>\n",
       "      <td>204.95.99.109</td>\n",
       "      <td>AS45960</td>\n",
       "      <td>58859</td>\n",
       "    </tr>\n",
       "    <tr>\n",
       "      <th>3</th>\n",
       "      <td>B106-Fynloski</td>\n",
       "      <td>60.X.X.X</td>\n",
       "      <td>Petaling Jaya</td>\n",
       "      <td>NOT</td>\n",
       "      <td>5552</td>\n",
       "      <td>204.95.99.66</td>\n",
       "      <td>AS4788</td>\n",
       "      <td>53586</td>\n",
       "    </tr>\n",
       "    <tr>\n",
       "      <th>4</th>\n",
       "      <td>B106-CB</td>\n",
       "      <td>113.X.X.X</td>\n",
       "      <td>Kuala Lumpur</td>\n",
       "      <td>LEGIT</td>\n",
       "      <td>288</td>\n",
       "      <td>204.95.99.31</td>\n",
       "      <td>AS9534</td>\n",
       "      <td>12277</td>\n",
       "    </tr>\n",
       "  </tbody>\n",
       "</table>\n",
       "</div>"
      ],
      "text/plain": [
       "          Botnet FirstSource   SourceIpCity PostLegit  TargetPort  \\\n",
       "0   B106-Jenxcus   219.X.X.X         Kajang     LEGIT        4442   \n",
       "1     B106-MULTI   115.X.X.X     Kota Bharu     LEGIT          88   \n",
       "2     B106-MULTI    14.X.X.X        Kuantan     LEGIT          81   \n",
       "3  B106-Fynloski    60.X.X.X  Petaling Jaya       NOT        5552   \n",
       "4        B106-CB   113.X.X.X   Kuala Lumpur     LEGIT         288   \n",
       "\n",
       "        TargetIp SourceIpAsnNr  SourcePort  \n",
       "0   204.95.99.86        AS4788        1044  \n",
       "1  204.95.99.109        AS4788       57260  \n",
       "2  204.95.99.109       AS45960       58859  \n",
       "3   204.95.99.66        AS4788       53586  \n",
       "4   204.95.99.31        AS9534       12277  "
      ]
     },
     "execution_count": 48,
     "metadata": {},
     "output_type": "execute_result"
    }
   ],
   "source": [
    "# Preparing Dataset\n",
    "X = dataset[['Botnet','FirstSource','SourceIpCity','PostLegit','TargetPort','TargetIp','SourceIpAsnNr','SourcePort']]\n",
    "X.head()\n"
   ]
  },
  {
   "cell_type": "code",
   "execution_count": 49,
   "id": "2c1cf389",
   "metadata": {},
   "outputs": [
    {
     "data": {
      "text/plain": [
       "Botnet           0\n",
       "FirstSource      0\n",
       "SourceIpCity     0\n",
       "PostLegit        0\n",
       "TargetPort       0\n",
       "TargetIp         0\n",
       "SourceIpAsnNr    0\n",
       "SourcePort       0\n",
       "dtype: int64"
      ]
     },
     "execution_count": 49,
     "metadata": {},
     "output_type": "execute_result"
    }
   ],
   "source": [
    "#Sum of allnull values\n",
    "X.isnull().sum()"
   ]
  },
  {
   "cell_type": "code",
   "execution_count": 53,
   "id": "57ab8da9",
   "metadata": {},
   "outputs": [
    {
     "name": "stderr",
     "output_type": "stream",
     "text": [
      "C:\\Users\\aslam\\AppData\\Local\\Temp\\ipykernel_14540\\1305775980.py:2: SettingWithCopyWarning: \n",
      "A value is trying to be set on a copy of a slice from a DataFrame.\n",
      "Try using .loc[row_indexer,col_indexer] = value instead\n",
      "\n",
      "See the caveats in the documentation: https://pandas.pydata.org/pandas-docs/stable/user_guide/indexing.html#returning-a-view-versus-a-copy\n",
      "  X[['Botnet','FirstSource','PostLegit','SourceIpCity','TargetIp','SourceIpAsnNr']]=X[['Botnet','FirstSource','PostLegit',\n"
     ]
    },
    {
     "data": {
      "text/html": [
       "<div>\n",
       "<style scoped>\n",
       "    .dataframe tbody tr th:only-of-type {\n",
       "        vertical-align: middle;\n",
       "    }\n",
       "\n",
       "    .dataframe tbody tr th {\n",
       "        vertical-align: top;\n",
       "    }\n",
       "\n",
       "    .dataframe thead th {\n",
       "        text-align: right;\n",
       "    }\n",
       "</style>\n",
       "<table border=\"1\" class=\"dataframe\">\n",
       "  <thead>\n",
       "    <tr style=\"text-align: right;\">\n",
       "      <th></th>\n",
       "      <th>Botnet</th>\n",
       "      <th>FirstSource</th>\n",
       "      <th>SourceIpCity</th>\n",
       "      <th>PostLegit</th>\n",
       "      <th>TargetPort</th>\n",
       "      <th>TargetIp</th>\n",
       "      <th>SourceIpAsnNr</th>\n",
       "      <th>SourcePort</th>\n",
       "    </tr>\n",
       "  </thead>\n",
       "  <tbody>\n",
       "    <tr>\n",
       "      <th>0</th>\n",
       "      <td>10</td>\n",
       "      <td>28</td>\n",
       "      <td>37</td>\n",
       "      <td>0</td>\n",
       "      <td>4442</td>\n",
       "      <td>22</td>\n",
       "      <td>29</td>\n",
       "      <td>1044</td>\n",
       "    </tr>\n",
       "    <tr>\n",
       "      <th>1</th>\n",
       "      <td>11</td>\n",
       "      <td>6</td>\n",
       "      <td>46</td>\n",
       "      <td>0</td>\n",
       "      <td>88</td>\n",
       "      <td>1</td>\n",
       "      <td>29</td>\n",
       "      <td>57260</td>\n",
       "    </tr>\n",
       "    <tr>\n",
       "      <th>2</th>\n",
       "      <td>11</td>\n",
       "      <td>15</td>\n",
       "      <td>53</td>\n",
       "      <td>0</td>\n",
       "      <td>81</td>\n",
       "      <td>1</td>\n",
       "      <td>28</td>\n",
       "      <td>58859</td>\n",
       "    </tr>\n",
       "    <tr>\n",
       "      <th>3</th>\n",
       "      <td>6</td>\n",
       "      <td>33</td>\n",
       "      <td>74</td>\n",
       "      <td>1</td>\n",
       "      <td>5552</td>\n",
       "      <td>18</td>\n",
       "      <td>29</td>\n",
       "      <td>53586</td>\n",
       "    </tr>\n",
       "    <tr>\n",
       "      <th>4</th>\n",
       "      <td>2</td>\n",
       "      <td>5</td>\n",
       "      <td>51</td>\n",
       "      <td>0</td>\n",
       "      <td>288</td>\n",
       "      <td>13</td>\n",
       "      <td>32</td>\n",
       "      <td>12277</td>\n",
       "    </tr>\n",
       "  </tbody>\n",
       "</table>\n",
       "</div>"
      ],
      "text/plain": [
       "   Botnet  FirstSource  SourceIpCity  PostLegit  TargetPort  TargetIp  \\\n",
       "0      10           28            37          0        4442        22   \n",
       "1      11            6            46          0          88         1   \n",
       "2      11           15            53          0          81         1   \n",
       "3       6           33            74          1        5552        18   \n",
       "4       2            5            51          0         288        13   \n",
       "\n",
       "   SourceIpAsnNr  SourcePort  \n",
       "0             29        1044  \n",
       "1             29       57260  \n",
       "2             28       58859  \n",
       "3             29       53586  \n",
       "4             32       12277  "
      ]
     },
     "execution_count": 53,
     "metadata": {},
     "output_type": "execute_result"
    }
   ],
   "source": [
    "#TRANSFORMING DATASET\n",
    "X[['Botnet','FirstSource','PostLegit','SourceIpCity','TargetIp','SourceIpAsnNr']]=X[['Botnet','FirstSource','PostLegit',\n",
    "'SourceIpCity','TargetIp','SourceIpAsnNr']].apply(LabelEncoder().fit_transform)\n",
    "\n",
    "#FINAL DATASET\n",
    "X.head()\n"
   ]
  },
  {
   "cell_type": "code",
   "execution_count": 52,
   "id": "8037ab0d",
   "metadata": {},
   "outputs": [
    {
     "data": {
      "text/plain": [
       "0    1\n",
       "1    1\n",
       "2    1\n",
       "3    0\n",
       "4    1\n",
       "Name: threat_int, dtype: int64"
      ]
     },
     "execution_count": 52,
     "metadata": {},
     "output_type": "execute_result"
    }
   ],
   "source": [
    "#OUTPUT COLUMN\n",
    "Y = dataset['threat_int']\n",
    "Y.head()\n"
   ]
  },
  {
   "cell_type": "code",
   "execution_count": 54,
   "id": "16940aae",
   "metadata": {},
   "outputs": [
    {
     "name": "stdout",
     "output_type": "stream",
     "text": [
      "(6399, 8)\n",
      "(1600, 8)\n",
      "(6399,)\n",
      "(1600,)\n"
     ]
    }
   ],
   "source": [
    "#SPLITTING INTO TRAINING AND TESTING DATASET\n",
    "from sklearn.model_selection import train_test_split\n",
    "X_train, X_test, Y_train, Y_test = train_test_split(X,Y,test_size = 0.2) \n",
    "print(X_train.shape) \n",
    "print(X_test.shape)\n",
    "print(Y_train.shape)\n",
    "print(Y_test.shape)\n",
    "X_train=X_train.to_numpy()\n",
    "X_test=X_test.to_numpy()\n",
    "Y_train=Y_train.to_numpy()\n",
    "Y_test=Y_test.to_numpy()\n"
   ]
  },
  {
   "cell_type": "code",
   "execution_count": 55,
   "id": "825ef1db",
   "metadata": {},
   "outputs": [
    {
     "name": "stdout",
     "output_type": "stream",
     "text": [
      "X_train =  [[14 33 65 ...  3 29  0]\n",
      " [ 2 28  0 ... 13 29  0]\n",
      " [ 2 24 56 ... 13 29 -1]\n",
      " ...\n",
      " [ 2 25 46 ... 13 29 -1]\n",
      " [11 19 78 ...  1 29  0]\n",
      " [11 15 37 ...  1 28  0]]\n",
      "Y_train =  [0 1 1 ... 1 1 1]\n",
      "X_test =  [[  2  28   0 ...  13  29   0]\n",
      " [ 11   5  51 ...   1  32   0]\n",
      " [ 10  14 102 ...  22  29   0]\n",
      " ...\n",
      " [  3  19  51 ...  14  29   0]\n",
      " [  1   0  62 ...  12  29  -1]\n",
      " [ 13  26  51 ...   2  34   0]]\n",
      "Y_test =  [1 1 1 ... 0 1 0]\n"
     ]
    }
   ],
   "source": [
    "#FEATURE SCALING\n",
    "from sklearn.preprocessing import StandardScaler\n",
    "sc = StandardScaler() \n",
    "#Scales the data into variance\n",
    "#can same mean and variance\n",
    "X_train[:,7:9] = sc.fit_transform(X_train[:,7:9]) \n",
    "X_test[:,7:9] = sc.transform(X_test[:,7:9]) \n",
    "print(\"X_train = \",X_train)\n",
    "print(\"Y_train = \",Y_train)\n",
    "print(\"X_test = \",X_test)\n",
    "print(\"Y_test = \",Y_test)\n",
    "\n"
   ]
  },
  {
   "cell_type": "code",
   "execution_count": 56,
   "id": "087333ad",
   "metadata": {},
   "outputs": [],
   "source": [
    "#TRAINING THE MODEL ON THE TRAINING SET LOGISTIC REGRESSION"
   ]
  },
  {
   "cell_type": "code",
   "execution_count": 57,
   "id": "cc3601ec",
   "metadata": {},
   "outputs": [
    {
     "data": {
      "text/html": [
       "<style>#sk-container-id-2 {color: black;background-color: white;}#sk-container-id-2 pre{padding: 0;}#sk-container-id-2 div.sk-toggleable {background-color: white;}#sk-container-id-2 label.sk-toggleable__label {cursor: pointer;display: block;width: 100%;margin-bottom: 0;padding: 0.3em;box-sizing: border-box;text-align: center;}#sk-container-id-2 label.sk-toggleable__label-arrow:before {content: \"▸\";float: left;margin-right: 0.25em;color: #696969;}#sk-container-id-2 label.sk-toggleable__label-arrow:hover:before {color: black;}#sk-container-id-2 div.sk-estimator:hover label.sk-toggleable__label-arrow:before {color: black;}#sk-container-id-2 div.sk-toggleable__content {max-height: 0;max-width: 0;overflow: hidden;text-align: left;background-color: #f0f8ff;}#sk-container-id-2 div.sk-toggleable__content pre {margin: 0.2em;color: black;border-radius: 0.25em;background-color: #f0f8ff;}#sk-container-id-2 input.sk-toggleable__control:checked~div.sk-toggleable__content {max-height: 200px;max-width: 100%;overflow: auto;}#sk-container-id-2 input.sk-toggleable__control:checked~label.sk-toggleable__label-arrow:before {content: \"▾\";}#sk-container-id-2 div.sk-estimator input.sk-toggleable__control:checked~label.sk-toggleable__label {background-color: #d4ebff;}#sk-container-id-2 div.sk-label input.sk-toggleable__control:checked~label.sk-toggleable__label {background-color: #d4ebff;}#sk-container-id-2 input.sk-hidden--visually {border: 0;clip: rect(1px 1px 1px 1px);clip: rect(1px, 1px, 1px, 1px);height: 1px;margin: -1px;overflow: hidden;padding: 0;position: absolute;width: 1px;}#sk-container-id-2 div.sk-estimator {font-family: monospace;background-color: #f0f8ff;border: 1px dotted black;border-radius: 0.25em;box-sizing: border-box;margin-bottom: 0.5em;}#sk-container-id-2 div.sk-estimator:hover {background-color: #d4ebff;}#sk-container-id-2 div.sk-parallel-item::after {content: \"\";width: 100%;border-bottom: 1px solid gray;flex-grow: 1;}#sk-container-id-2 div.sk-label:hover label.sk-toggleable__label {background-color: #d4ebff;}#sk-container-id-2 div.sk-serial::before {content: \"\";position: absolute;border-left: 1px solid gray;box-sizing: border-box;top: 0;bottom: 0;left: 50%;z-index: 0;}#sk-container-id-2 div.sk-serial {display: flex;flex-direction: column;align-items: center;background-color: white;padding-right: 0.2em;padding-left: 0.2em;position: relative;}#sk-container-id-2 div.sk-item {position: relative;z-index: 1;}#sk-container-id-2 div.sk-parallel {display: flex;align-items: stretch;justify-content: center;background-color: white;position: relative;}#sk-container-id-2 div.sk-item::before, #sk-container-id-2 div.sk-parallel-item::before {content: \"\";position: absolute;border-left: 1px solid gray;box-sizing: border-box;top: 0;bottom: 0;left: 50%;z-index: -1;}#sk-container-id-2 div.sk-parallel-item {display: flex;flex-direction: column;z-index: 1;position: relative;background-color: white;}#sk-container-id-2 div.sk-parallel-item:first-child::after {align-self: flex-end;width: 50%;}#sk-container-id-2 div.sk-parallel-item:last-child::after {align-self: flex-start;width: 50%;}#sk-container-id-2 div.sk-parallel-item:only-child::after {width: 0;}#sk-container-id-2 div.sk-dashed-wrapped {border: 1px dashed gray;margin: 0 0.4em 0.5em 0.4em;box-sizing: border-box;padding-bottom: 0.4em;background-color: white;}#sk-container-id-2 div.sk-label label {font-family: monospace;font-weight: bold;display: inline-block;line-height: 1.2em;}#sk-container-id-2 div.sk-label-container {text-align: center;}#sk-container-id-2 div.sk-container {/* jupyter's `normalize.less` sets `[hidden] { display: none; }` but bootstrap.min.css set `[hidden] { display: none !important; }` so we also need the `!important` here to be able to override the default hidden behavior on the sphinx rendered scikit-learn.org. See: https://github.com/scikit-learn/scikit-learn/issues/21755 */display: inline-block !important;position: relative;}#sk-container-id-2 div.sk-text-repr-fallback {display: none;}</style><div id=\"sk-container-id-2\" class=\"sk-top-container\"><div class=\"sk-text-repr-fallback\"><pre>LogisticRegression(max_iter=1000)</pre><b>In a Jupyter environment, please rerun this cell to show the HTML representation or trust the notebook. <br />On GitHub, the HTML representation is unable to render, please try loading this page with nbviewer.org.</b></div><div class=\"sk-container\" hidden><div class=\"sk-item\"><div class=\"sk-estimator sk-toggleable\"><input class=\"sk-toggleable__control sk-hidden--visually\" id=\"sk-estimator-id-2\" type=\"checkbox\" checked><label for=\"sk-estimator-id-2\" class=\"sk-toggleable__label sk-toggleable__label-arrow\">LogisticRegression</label><div class=\"sk-toggleable__content\"><pre>LogisticRegression(max_iter=1000)</pre></div></div></div></div></div>"
      ],
      "text/plain": [
       "LogisticRegression(max_iter=1000)"
      ]
     },
     "execution_count": 57,
     "metadata": {},
     "output_type": "execute_result"
    }
   ],
   "source": [
    "#from sklearn.linear_model import LogisticRegression\n",
    "lr = LogisticRegression(max_iter=1000) \n",
    "# Maximum number of iterations used by the solver to converge\n",
    "lr.fit(X_train, Y_train)\n"
   ]
  },
  {
   "cell_type": "code",
   "execution_count": 58,
   "id": "d12ea7f9",
   "metadata": {},
   "outputs": [
    {
     "name": "stdout",
     "output_type": "stream",
     "text": [
      "[[1 1]\n",
      " [1 1]\n",
      " [1 1]\n",
      " ...\n",
      " [1 0]\n",
      " [1 1]\n",
      " [0 0]]\n"
     ]
    },
    {
     "name": "stderr",
     "output_type": "stream",
     "text": [
      "C:\\Users\\aslam\\AppData\\Local\\Programs\\Python\\Python310\\lib\\site-packages\\sklearn\\linear_model\\_logistic.py:458: ConvergenceWarning: lbfgs failed to converge (status=1):\n",
      "STOP: TOTAL NO. of ITERATIONS REACHED LIMIT.\n",
      "\n",
      "Increase the number of iterations (max_iter) or scale the data as shown in:\n",
      "    https://scikit-learn.org/stable/modules/preprocessing.html\n",
      "Please also refer to the documentation for alternative solver options:\n",
      "    https://scikit-learn.org/stable/modules/linear_model.html#logistic-regression\n",
      "  n_iter_i = _check_optimize_result(\n"
     ]
    }
   ],
   "source": [
    "#PREDICTING VALUES\n",
    "lr = LogisticRegression()\n",
    "lr.fit(X_train, Y_train)\n",
    "Y_pred = lr.predict(X_test)\n",
    "lr_score = accuracy_score(Y_test,lr.predict(X_test))\n",
    "print(np.concatenate((Y_pred.reshape(len(Y_pred),1), Y_test.reshape(len(Y_test),1)),1))\n",
    "\n"
   ]
  },
  {
   "cell_type": "code",
   "execution_count": 59,
   "id": "ddd90125",
   "metadata": {},
   "outputs": [
    {
     "name": "stdout",
     "output_type": "stream",
     "text": [
      "[[ 248  118]\n",
      " [ 173 1061]]\n",
      "\n",
      "\n",
      "MODEL ACCURACY :  81.8125\n"
     ]
    }
   ],
   "source": [
    "#ACCURACY OF THE MODEL\n",
    "from sklearn.metrics import confusion_matrix, accuracy_score, classification_report\n",
    "cm = confusion_matrix(Y_test,Y_pred)\n",
    "print(cm)\n",
    "print(\"\\n\")\n",
    "print(\"MODEL ACCURACY : \",accuracy_score(Y_test, Y_pred)*100)\n"
   ]
  },
  {
   "cell_type": "code",
   "execution_count": 60,
   "id": "a64541ec",
   "metadata": {},
   "outputs": [
    {
     "name": "stdout",
     "output_type": "stream",
     "text": [
      "              precision    recall  f1-score   support\n",
      "\n",
      "           0       0.59      0.68      0.63       366\n",
      "           1       0.90      0.86      0.88      1234\n",
      "\n",
      "    accuracy                           0.82      1600\n",
      "   macro avg       0.74      0.77      0.75      1600\n",
      "weighted avg       0.83      0.82      0.82      1600\n",
      "\n"
     ]
    }
   ],
   "source": [
    "#CLASSIFICATION REPORT\n",
    "print(classification_report(Y_test, Y_pred))\n"
   ]
  },
  {
   "cell_type": "code",
   "execution_count": 61,
   "id": "14de0d72",
   "metadata": {},
   "outputs": [
    {
     "data": {
      "text/html": [
       "<style>#sk-container-id-3 {color: black;background-color: white;}#sk-container-id-3 pre{padding: 0;}#sk-container-id-3 div.sk-toggleable {background-color: white;}#sk-container-id-3 label.sk-toggleable__label {cursor: pointer;display: block;width: 100%;margin-bottom: 0;padding: 0.3em;box-sizing: border-box;text-align: center;}#sk-container-id-3 label.sk-toggleable__label-arrow:before {content: \"▸\";float: left;margin-right: 0.25em;color: #696969;}#sk-container-id-3 label.sk-toggleable__label-arrow:hover:before {color: black;}#sk-container-id-3 div.sk-estimator:hover label.sk-toggleable__label-arrow:before {color: black;}#sk-container-id-3 div.sk-toggleable__content {max-height: 0;max-width: 0;overflow: hidden;text-align: left;background-color: #f0f8ff;}#sk-container-id-3 div.sk-toggleable__content pre {margin: 0.2em;color: black;border-radius: 0.25em;background-color: #f0f8ff;}#sk-container-id-3 input.sk-toggleable__control:checked~div.sk-toggleable__content {max-height: 200px;max-width: 100%;overflow: auto;}#sk-container-id-3 input.sk-toggleable__control:checked~label.sk-toggleable__label-arrow:before {content: \"▾\";}#sk-container-id-3 div.sk-estimator input.sk-toggleable__control:checked~label.sk-toggleable__label {background-color: #d4ebff;}#sk-container-id-3 div.sk-label input.sk-toggleable__control:checked~label.sk-toggleable__label {background-color: #d4ebff;}#sk-container-id-3 input.sk-hidden--visually {border: 0;clip: rect(1px 1px 1px 1px);clip: rect(1px, 1px, 1px, 1px);height: 1px;margin: -1px;overflow: hidden;padding: 0;position: absolute;width: 1px;}#sk-container-id-3 div.sk-estimator {font-family: monospace;background-color: #f0f8ff;border: 1px dotted black;border-radius: 0.25em;box-sizing: border-box;margin-bottom: 0.5em;}#sk-container-id-3 div.sk-estimator:hover {background-color: #d4ebff;}#sk-container-id-3 div.sk-parallel-item::after {content: \"\";width: 100%;border-bottom: 1px solid gray;flex-grow: 1;}#sk-container-id-3 div.sk-label:hover label.sk-toggleable__label {background-color: #d4ebff;}#sk-container-id-3 div.sk-serial::before {content: \"\";position: absolute;border-left: 1px solid gray;box-sizing: border-box;top: 0;bottom: 0;left: 50%;z-index: 0;}#sk-container-id-3 div.sk-serial {display: flex;flex-direction: column;align-items: center;background-color: white;padding-right: 0.2em;padding-left: 0.2em;position: relative;}#sk-container-id-3 div.sk-item {position: relative;z-index: 1;}#sk-container-id-3 div.sk-parallel {display: flex;align-items: stretch;justify-content: center;background-color: white;position: relative;}#sk-container-id-3 div.sk-item::before, #sk-container-id-3 div.sk-parallel-item::before {content: \"\";position: absolute;border-left: 1px solid gray;box-sizing: border-box;top: 0;bottom: 0;left: 50%;z-index: -1;}#sk-container-id-3 div.sk-parallel-item {display: flex;flex-direction: column;z-index: 1;position: relative;background-color: white;}#sk-container-id-3 div.sk-parallel-item:first-child::after {align-self: flex-end;width: 50%;}#sk-container-id-3 div.sk-parallel-item:last-child::after {align-self: flex-start;width: 50%;}#sk-container-id-3 div.sk-parallel-item:only-child::after {width: 0;}#sk-container-id-3 div.sk-dashed-wrapped {border: 1px dashed gray;margin: 0 0.4em 0.5em 0.4em;box-sizing: border-box;padding-bottom: 0.4em;background-color: white;}#sk-container-id-3 div.sk-label label {font-family: monospace;font-weight: bold;display: inline-block;line-height: 1.2em;}#sk-container-id-3 div.sk-label-container {text-align: center;}#sk-container-id-3 div.sk-container {/* jupyter's `normalize.less` sets `[hidden] { display: none; }` but bootstrap.min.css set `[hidden] { display: none !important; }` so we also need the `!important` here to be able to override the default hidden behavior on the sphinx rendered scikit-learn.org. See: https://github.com/scikit-learn/scikit-learn/issues/21755 */display: inline-block !important;position: relative;}#sk-container-id-3 div.sk-text-repr-fallback {display: none;}</style><div id=\"sk-container-id-3\" class=\"sk-top-container\"><div class=\"sk-text-repr-fallback\"><pre>GaussianNB()</pre><b>In a Jupyter environment, please rerun this cell to show the HTML representation or trust the notebook. <br />On GitHub, the HTML representation is unable to render, please try loading this page with nbviewer.org.</b></div><div class=\"sk-container\" hidden><div class=\"sk-item\"><div class=\"sk-estimator sk-toggleable\"><input class=\"sk-toggleable__control sk-hidden--visually\" id=\"sk-estimator-id-3\" type=\"checkbox\" checked><label for=\"sk-estimator-id-3\" class=\"sk-toggleable__label sk-toggleable__label-arrow\">GaussianNB</label><div class=\"sk-toggleable__content\"><pre>GaussianNB()</pre></div></div></div></div></div>"
      ],
      "text/plain": [
       "GaussianNB()"
      ]
     },
     "execution_count": 61,
     "metadata": {},
     "output_type": "execute_result"
    }
   ],
   "source": [
    "#NAIVE BAYES\n",
    "from sklearn.naive_bayes import GaussianNB\n",
    "nb = GaussianNB()\n",
    "nb.fit(X_train,Y_train)\n"
   ]
  },
  {
   "cell_type": "code",
   "execution_count": 62,
   "id": "8b6a7da7",
   "metadata": {},
   "outputs": [
    {
     "name": "stdout",
     "output_type": "stream",
     "text": [
      "[[1 1]\n",
      " [1 1]\n",
      " [1 1]\n",
      " ...\n",
      " [1 0]\n",
      " [1 1]\n",
      " [0 0]]\n"
     ]
    }
   ],
   "source": [
    "#PREDICTING VALUES\n",
    "Y_pred = nb.predict(X_test)\n",
    "nb_score = accuracy_score(Y_test,lr.predict(X_test))\n",
    "\n",
    "print(np.concatenate((Y_pred.reshape(len(Y_pred),1), Y_test.reshape(len(Y_test),1)),1))\n"
   ]
  },
  {
   "cell_type": "code",
   "execution_count": 63,
   "id": "16bd12d2",
   "metadata": {},
   "outputs": [
    {
     "name": "stdout",
     "output_type": "stream",
     "text": [
      "[[ 226  140]\n",
      " [ 220 1014]]\n",
      "\n",
      "\n",
      "MODEL ACCURACY :  77.5\n"
     ]
    }
   ],
   "source": [
    "#ACCURACY OF THE MODEL\n",
    "from sklearn.metrics import confusion_matrix, accuracy_score, classification_report\n",
    "cm = confusion_matrix(Y_test,Y_pred)\n",
    "print(cm)\n",
    "print(\"\\n\")\n",
    "print(\"MODEL ACCURACY : \",accuracy_score(Y_test, Y_pred)*100)\n"
   ]
  },
  {
   "cell_type": "code",
   "execution_count": 64,
   "id": "d01f4c59",
   "metadata": {},
   "outputs": [
    {
     "name": "stdout",
     "output_type": "stream",
     "text": [
      "              precision    recall  f1-score   support\n",
      "\n",
      "           0       0.51      0.62      0.56       366\n",
      "           1       0.88      0.82      0.85      1234\n",
      "\n",
      "    accuracy                           0.78      1600\n",
      "   macro avg       0.69      0.72      0.70      1600\n",
      "weighted avg       0.79      0.78      0.78      1600\n",
      "\n"
     ]
    }
   ],
   "source": [
    "#CLASSIFICATION REPORT\n",
    "print(classification_report(Y_test,Y_pred))\n"
   ]
  },
  {
   "cell_type": "code",
   "execution_count": 65,
   "id": "cd26832a",
   "metadata": {},
   "outputs": [
    {
     "data": {
      "text/html": [
       "<style>#sk-container-id-4 {color: black;background-color: white;}#sk-container-id-4 pre{padding: 0;}#sk-container-id-4 div.sk-toggleable {background-color: white;}#sk-container-id-4 label.sk-toggleable__label {cursor: pointer;display: block;width: 100%;margin-bottom: 0;padding: 0.3em;box-sizing: border-box;text-align: center;}#sk-container-id-4 label.sk-toggleable__label-arrow:before {content: \"▸\";float: left;margin-right: 0.25em;color: #696969;}#sk-container-id-4 label.sk-toggleable__label-arrow:hover:before {color: black;}#sk-container-id-4 div.sk-estimator:hover label.sk-toggleable__label-arrow:before {color: black;}#sk-container-id-4 div.sk-toggleable__content {max-height: 0;max-width: 0;overflow: hidden;text-align: left;background-color: #f0f8ff;}#sk-container-id-4 div.sk-toggleable__content pre {margin: 0.2em;color: black;border-radius: 0.25em;background-color: #f0f8ff;}#sk-container-id-4 input.sk-toggleable__control:checked~div.sk-toggleable__content {max-height: 200px;max-width: 100%;overflow: auto;}#sk-container-id-4 input.sk-toggleable__control:checked~label.sk-toggleable__label-arrow:before {content: \"▾\";}#sk-container-id-4 div.sk-estimator input.sk-toggleable__control:checked~label.sk-toggleable__label {background-color: #d4ebff;}#sk-container-id-4 div.sk-label input.sk-toggleable__control:checked~label.sk-toggleable__label {background-color: #d4ebff;}#sk-container-id-4 input.sk-hidden--visually {border: 0;clip: rect(1px 1px 1px 1px);clip: rect(1px, 1px, 1px, 1px);height: 1px;margin: -1px;overflow: hidden;padding: 0;position: absolute;width: 1px;}#sk-container-id-4 div.sk-estimator {font-family: monospace;background-color: #f0f8ff;border: 1px dotted black;border-radius: 0.25em;box-sizing: border-box;margin-bottom: 0.5em;}#sk-container-id-4 div.sk-estimator:hover {background-color: #d4ebff;}#sk-container-id-4 div.sk-parallel-item::after {content: \"\";width: 100%;border-bottom: 1px solid gray;flex-grow: 1;}#sk-container-id-4 div.sk-label:hover label.sk-toggleable__label {background-color: #d4ebff;}#sk-container-id-4 div.sk-serial::before {content: \"\";position: absolute;border-left: 1px solid gray;box-sizing: border-box;top: 0;bottom: 0;left: 50%;z-index: 0;}#sk-container-id-4 div.sk-serial {display: flex;flex-direction: column;align-items: center;background-color: white;padding-right: 0.2em;padding-left: 0.2em;position: relative;}#sk-container-id-4 div.sk-item {position: relative;z-index: 1;}#sk-container-id-4 div.sk-parallel {display: flex;align-items: stretch;justify-content: center;background-color: white;position: relative;}#sk-container-id-4 div.sk-item::before, #sk-container-id-4 div.sk-parallel-item::before {content: \"\";position: absolute;border-left: 1px solid gray;box-sizing: border-box;top: 0;bottom: 0;left: 50%;z-index: -1;}#sk-container-id-4 div.sk-parallel-item {display: flex;flex-direction: column;z-index: 1;position: relative;background-color: white;}#sk-container-id-4 div.sk-parallel-item:first-child::after {align-self: flex-end;width: 50%;}#sk-container-id-4 div.sk-parallel-item:last-child::after {align-self: flex-start;width: 50%;}#sk-container-id-4 div.sk-parallel-item:only-child::after {width: 0;}#sk-container-id-4 div.sk-dashed-wrapped {border: 1px dashed gray;margin: 0 0.4em 0.5em 0.4em;box-sizing: border-box;padding-bottom: 0.4em;background-color: white;}#sk-container-id-4 div.sk-label label {font-family: monospace;font-weight: bold;display: inline-block;line-height: 1.2em;}#sk-container-id-4 div.sk-label-container {text-align: center;}#sk-container-id-4 div.sk-container {/* jupyter's `normalize.less` sets `[hidden] { display: none; }` but bootstrap.min.css set `[hidden] { display: none !important; }` so we also need the `!important` here to be able to override the default hidden behavior on the sphinx rendered scikit-learn.org. See: https://github.com/scikit-learn/scikit-learn/issues/21755 */display: inline-block !important;position: relative;}#sk-container-id-4 div.sk-text-repr-fallback {display: none;}</style><div id=\"sk-container-id-4\" class=\"sk-top-container\"><div class=\"sk-text-repr-fallback\"><pre>KNeighborsClassifier(n_neighbors=85)</pre><b>In a Jupyter environment, please rerun this cell to show the HTML representation or trust the notebook. <br />On GitHub, the HTML representation is unable to render, please try loading this page with nbviewer.org.</b></div><div class=\"sk-container\" hidden><div class=\"sk-item\"><div class=\"sk-estimator sk-toggleable\"><input class=\"sk-toggleable__control sk-hidden--visually\" id=\"sk-estimator-id-4\" type=\"checkbox\" checked><label for=\"sk-estimator-id-4\" class=\"sk-toggleable__label sk-toggleable__label-arrow\">KNeighborsClassifier</label><div class=\"sk-toggleable__content\"><pre>KNeighborsClassifier(n_neighbors=85)</pre></div></div></div></div></div>"
      ],
      "text/plain": [
       "KNeighborsClassifier(n_neighbors=85)"
      ]
     },
     "execution_count": 65,
     "metadata": {},
     "output_type": "execute_result"
    }
   ],
   "source": [
    "# K NEAREST NEIGHBOUR\n",
    "from sklearn.neighbors import KNeighborsClassifier\n",
    "knn = KNeighborsClassifier(n_neighbors=85,metric='minkowski',p=2)\n",
    "knn.fit(X_train, Y_train)\n"
   ]
  },
  {
   "cell_type": "code",
   "execution_count": 66,
   "id": "3cadfe90",
   "metadata": {},
   "outputs": [
    {
     "name": "stdout",
     "output_type": "stream",
     "text": [
      "[[1 1]\n",
      " [1 1]\n",
      " [1 1]\n",
      " ...\n",
      " [0 0]\n",
      " [1 1]\n",
      " [0 0]]\n"
     ]
    }
   ],
   "source": [
    "#PREDICTING VALUES\n",
    "\n",
    "Y_pred = knn.predict(X_test)\n",
    "knn_score = accuracy_score(Y_test,lr.predict(X_test))\n",
    "print(np.concatenate((Y_pred.reshape(len(Y_pred),1), Y_test.reshape(len(Y_test),1)),1))\n"
   ]
  },
  {
   "cell_type": "code",
   "execution_count": 67,
   "id": "b4a7d116",
   "metadata": {},
   "outputs": [
    {
     "name": "stdout",
     "output_type": "stream",
     "text": [
      "[[ 346   20]\n",
      " [  92 1142]]\n",
      "\n",
      "\n",
      "MODEL ACCURACY :  93.0\n"
     ]
    }
   ],
   "source": [
    "#ACCURACY OF THE MODEL\n",
    "from sklearn.metrics import confusion_matrix, accuracy_score, classification_report\n",
    "cm = confusion_matrix(Y_test,Y_pred)\n",
    "print(cm)\n",
    "print(\"\\n\")\n",
    "print(\"MODEL ACCURACY : \",accuracy_score(Y_test, Y_pred)*100)\n"
   ]
  },
  {
   "cell_type": "code",
   "execution_count": 68,
   "id": "2d455537",
   "metadata": {},
   "outputs": [
    {
     "name": "stdout",
     "output_type": "stream",
     "text": [
      "              precision    recall  f1-score   support\n",
      "\n",
      "           0       0.79      0.95      0.86       366\n",
      "           1       0.98      0.93      0.95      1234\n",
      "\n",
      "    accuracy                           0.93      1600\n",
      "   macro avg       0.89      0.94      0.91      1600\n",
      "weighted avg       0.94      0.93      0.93      1600\n",
      "\n"
     ]
    }
   ],
   "source": [
    "#CLASSIFICATION REPORT\n",
    "print(classification_report(Y_test,Y_pred))\n"
   ]
  },
  {
   "cell_type": "code",
   "execution_count": 71,
   "id": "1bf57c30",
   "metadata": {},
   "outputs": [
    {
     "data": {
      "text/html": [
       "<style>#sk-container-id-6 {color: black;background-color: white;}#sk-container-id-6 pre{padding: 0;}#sk-container-id-6 div.sk-toggleable {background-color: white;}#sk-container-id-6 label.sk-toggleable__label {cursor: pointer;display: block;width: 100%;margin-bottom: 0;padding: 0.3em;box-sizing: border-box;text-align: center;}#sk-container-id-6 label.sk-toggleable__label-arrow:before {content: \"▸\";float: left;margin-right: 0.25em;color: #696969;}#sk-container-id-6 label.sk-toggleable__label-arrow:hover:before {color: black;}#sk-container-id-6 div.sk-estimator:hover label.sk-toggleable__label-arrow:before {color: black;}#sk-container-id-6 div.sk-toggleable__content {max-height: 0;max-width: 0;overflow: hidden;text-align: left;background-color: #f0f8ff;}#sk-container-id-6 div.sk-toggleable__content pre {margin: 0.2em;color: black;border-radius: 0.25em;background-color: #f0f8ff;}#sk-container-id-6 input.sk-toggleable__control:checked~div.sk-toggleable__content {max-height: 200px;max-width: 100%;overflow: auto;}#sk-container-id-6 input.sk-toggleable__control:checked~label.sk-toggleable__label-arrow:before {content: \"▾\";}#sk-container-id-6 div.sk-estimator input.sk-toggleable__control:checked~label.sk-toggleable__label {background-color: #d4ebff;}#sk-container-id-6 div.sk-label input.sk-toggleable__control:checked~label.sk-toggleable__label {background-color: #d4ebff;}#sk-container-id-6 input.sk-hidden--visually {border: 0;clip: rect(1px 1px 1px 1px);clip: rect(1px, 1px, 1px, 1px);height: 1px;margin: -1px;overflow: hidden;padding: 0;position: absolute;width: 1px;}#sk-container-id-6 div.sk-estimator {font-family: monospace;background-color: #f0f8ff;border: 1px dotted black;border-radius: 0.25em;box-sizing: border-box;margin-bottom: 0.5em;}#sk-container-id-6 div.sk-estimator:hover {background-color: #d4ebff;}#sk-container-id-6 div.sk-parallel-item::after {content: \"\";width: 100%;border-bottom: 1px solid gray;flex-grow: 1;}#sk-container-id-6 div.sk-label:hover label.sk-toggleable__label {background-color: #d4ebff;}#sk-container-id-6 div.sk-serial::before {content: \"\";position: absolute;border-left: 1px solid gray;box-sizing: border-box;top: 0;bottom: 0;left: 50%;z-index: 0;}#sk-container-id-6 div.sk-serial {display: flex;flex-direction: column;align-items: center;background-color: white;padding-right: 0.2em;padding-left: 0.2em;position: relative;}#sk-container-id-6 div.sk-item {position: relative;z-index: 1;}#sk-container-id-6 div.sk-parallel {display: flex;align-items: stretch;justify-content: center;background-color: white;position: relative;}#sk-container-id-6 div.sk-item::before, #sk-container-id-6 div.sk-parallel-item::before {content: \"\";position: absolute;border-left: 1px solid gray;box-sizing: border-box;top: 0;bottom: 0;left: 50%;z-index: -1;}#sk-container-id-6 div.sk-parallel-item {display: flex;flex-direction: column;z-index: 1;position: relative;background-color: white;}#sk-container-id-6 div.sk-parallel-item:first-child::after {align-self: flex-end;width: 50%;}#sk-container-id-6 div.sk-parallel-item:last-child::after {align-self: flex-start;width: 50%;}#sk-container-id-6 div.sk-parallel-item:only-child::after {width: 0;}#sk-container-id-6 div.sk-dashed-wrapped {border: 1px dashed gray;margin: 0 0.4em 0.5em 0.4em;box-sizing: border-box;padding-bottom: 0.4em;background-color: white;}#sk-container-id-6 div.sk-label label {font-family: monospace;font-weight: bold;display: inline-block;line-height: 1.2em;}#sk-container-id-6 div.sk-label-container {text-align: center;}#sk-container-id-6 div.sk-container {/* jupyter's `normalize.less` sets `[hidden] { display: none; }` but bootstrap.min.css set `[hidden] { display: none !important; }` so we also need the `!important` here to be able to override the default hidden behavior on the sphinx rendered scikit-learn.org. See: https://github.com/scikit-learn/scikit-learn/issues/21755 */display: inline-block !important;position: relative;}#sk-container-id-6 div.sk-text-repr-fallback {display: none;}</style><div id=\"sk-container-id-6\" class=\"sk-top-container\"><div class=\"sk-text-repr-fallback\"><pre>SVC(random_state=0)</pre><b>In a Jupyter environment, please rerun this cell to show the HTML representation or trust the notebook. <br />On GitHub, the HTML representation is unable to render, please try loading this page with nbviewer.org.</b></div><div class=\"sk-container\" hidden><div class=\"sk-item\"><div class=\"sk-estimator sk-toggleable\"><input class=\"sk-toggleable__control sk-hidden--visually\" id=\"sk-estimator-id-6\" type=\"checkbox\" checked><label for=\"sk-estimator-id-6\" class=\"sk-toggleable__label sk-toggleable__label-arrow\">SVC</label><div class=\"sk-toggleable__content\"><pre>SVC(random_state=0)</pre></div></div></div></div></div>"
      ],
      "text/plain": [
       "SVC(random_state=0)"
      ]
     },
     "execution_count": 71,
     "metadata": {},
     "output_type": "execute_result"
    }
   ],
   "source": [
    "#SVM MODEL\n",
    "from sklearn.svm import SVC\n",
    "svm = SVC(kernel = 'rbf',random_state=0) \n",
    "# it will produce the same splitting datasets.\n",
    "svm.fit(X_train, Y_train)\n"
   ]
  },
  {
   "cell_type": "code",
   "execution_count": 72,
   "id": "a23b502c",
   "metadata": {},
   "outputs": [
    {
     "name": "stdout",
     "output_type": "stream",
     "text": [
      "[[1 1]\n",
      " [1 1]\n",
      " [1 1]\n",
      " ...\n",
      " [0 0]\n",
      " [1 1]\n",
      " [0 0]]\n"
     ]
    }
   ],
   "source": [
    "#PREDICTING VALUES\n",
    "Y_pred = svm.predict(X_test)\n",
    "svm_score = accuracy_score(Y_test,lr.predict(X_test))\n",
    "print(np.concatenate((Y_pred.reshape(len(Y_pred),1), Y_test.reshape(len(Y_test),1)),1))\n"
   ]
  },
  {
   "cell_type": "code",
   "execution_count": 73,
   "id": "3c8e3674",
   "metadata": {},
   "outputs": [
    {
     "name": "stdout",
     "output_type": "stream",
     "text": [
      "[[ 161  205]\n",
      " [  56 1178]]\n",
      "\n",
      "\n",
      "MODEL ACCURACY :  83.6875\n"
     ]
    }
   ],
   "source": [
    "#ACCURACY OF THE MODEL\n",
    "from sklearn.metrics import confusion_matrix, accuracy_score, classification_report\n",
    "cm = confusion_matrix(Y_test,Y_pred)\n",
    "print(cm)\n",
    "print(\"\\n\")\n",
    "print(\"MODEL ACCURACY : \",accuracy_score(Y_test, Y_pred)*100)\n"
   ]
  },
  {
   "cell_type": "code",
   "execution_count": 74,
   "id": "b4bd351f",
   "metadata": {},
   "outputs": [
    {
     "name": "stdout",
     "output_type": "stream",
     "text": [
      "              precision    recall  f1-score   support\n",
      "\n",
      "           0       0.74      0.44      0.55       366\n",
      "           1       0.85      0.95      0.90      1234\n",
      "\n",
      "    accuracy                           0.84      1600\n",
      "   macro avg       0.80      0.70      0.73      1600\n",
      "weighted avg       0.83      0.84      0.82      1600\n",
      "\n"
     ]
    }
   ],
   "source": [
    "#CLASSIFICATION REPORT\n",
    "print(classification_report(Y_test,Y_pred))\n"
   ]
  },
  {
   "cell_type": "code",
   "execution_count": 75,
   "id": "c35a74b5",
   "metadata": {},
   "outputs": [
    {
     "data": {
      "text/html": [
       "<style>#sk-container-id-7 {color: black;background-color: white;}#sk-container-id-7 pre{padding: 0;}#sk-container-id-7 div.sk-toggleable {background-color: white;}#sk-container-id-7 label.sk-toggleable__label {cursor: pointer;display: block;width: 100%;margin-bottom: 0;padding: 0.3em;box-sizing: border-box;text-align: center;}#sk-container-id-7 label.sk-toggleable__label-arrow:before {content: \"▸\";float: left;margin-right: 0.25em;color: #696969;}#sk-container-id-7 label.sk-toggleable__label-arrow:hover:before {color: black;}#sk-container-id-7 div.sk-estimator:hover label.sk-toggleable__label-arrow:before {color: black;}#sk-container-id-7 div.sk-toggleable__content {max-height: 0;max-width: 0;overflow: hidden;text-align: left;background-color: #f0f8ff;}#sk-container-id-7 div.sk-toggleable__content pre {margin: 0.2em;color: black;border-radius: 0.25em;background-color: #f0f8ff;}#sk-container-id-7 input.sk-toggleable__control:checked~div.sk-toggleable__content {max-height: 200px;max-width: 100%;overflow: auto;}#sk-container-id-7 input.sk-toggleable__control:checked~label.sk-toggleable__label-arrow:before {content: \"▾\";}#sk-container-id-7 div.sk-estimator input.sk-toggleable__control:checked~label.sk-toggleable__label {background-color: #d4ebff;}#sk-container-id-7 div.sk-label input.sk-toggleable__control:checked~label.sk-toggleable__label {background-color: #d4ebff;}#sk-container-id-7 input.sk-hidden--visually {border: 0;clip: rect(1px 1px 1px 1px);clip: rect(1px, 1px, 1px, 1px);height: 1px;margin: -1px;overflow: hidden;padding: 0;position: absolute;width: 1px;}#sk-container-id-7 div.sk-estimator {font-family: monospace;background-color: #f0f8ff;border: 1px dotted black;border-radius: 0.25em;box-sizing: border-box;margin-bottom: 0.5em;}#sk-container-id-7 div.sk-estimator:hover {background-color: #d4ebff;}#sk-container-id-7 div.sk-parallel-item::after {content: \"\";width: 100%;border-bottom: 1px solid gray;flex-grow: 1;}#sk-container-id-7 div.sk-label:hover label.sk-toggleable__label {background-color: #d4ebff;}#sk-container-id-7 div.sk-serial::before {content: \"\";position: absolute;border-left: 1px solid gray;box-sizing: border-box;top: 0;bottom: 0;left: 50%;z-index: 0;}#sk-container-id-7 div.sk-serial {display: flex;flex-direction: column;align-items: center;background-color: white;padding-right: 0.2em;padding-left: 0.2em;position: relative;}#sk-container-id-7 div.sk-item {position: relative;z-index: 1;}#sk-container-id-7 div.sk-parallel {display: flex;align-items: stretch;justify-content: center;background-color: white;position: relative;}#sk-container-id-7 div.sk-item::before, #sk-container-id-7 div.sk-parallel-item::before {content: \"\";position: absolute;border-left: 1px solid gray;box-sizing: border-box;top: 0;bottom: 0;left: 50%;z-index: -1;}#sk-container-id-7 div.sk-parallel-item {display: flex;flex-direction: column;z-index: 1;position: relative;background-color: white;}#sk-container-id-7 div.sk-parallel-item:first-child::after {align-self: flex-end;width: 50%;}#sk-container-id-7 div.sk-parallel-item:last-child::after {align-self: flex-start;width: 50%;}#sk-container-id-7 div.sk-parallel-item:only-child::after {width: 0;}#sk-container-id-7 div.sk-dashed-wrapped {border: 1px dashed gray;margin: 0 0.4em 0.5em 0.4em;box-sizing: border-box;padding-bottom: 0.4em;background-color: white;}#sk-container-id-7 div.sk-label label {font-family: monospace;font-weight: bold;display: inline-block;line-height: 1.2em;}#sk-container-id-7 div.sk-label-container {text-align: center;}#sk-container-id-7 div.sk-container {/* jupyter's `normalize.less` sets `[hidden] { display: none; }` but bootstrap.min.css set `[hidden] { display: none !important; }` so we also need the `!important` here to be able to override the default hidden behavior on the sphinx rendered scikit-learn.org. See: https://github.com/scikit-learn/scikit-learn/issues/21755 */display: inline-block !important;position: relative;}#sk-container-id-7 div.sk-text-repr-fallback {display: none;}</style><div id=\"sk-container-id-7\" class=\"sk-top-container\"><div class=\"sk-text-repr-fallback\"><pre>Perceptron()</pre><b>In a Jupyter environment, please rerun this cell to show the HTML representation or trust the notebook. <br />On GitHub, the HTML representation is unable to render, please try loading this page with nbviewer.org.</b></div><div class=\"sk-container\" hidden><div class=\"sk-item\"><div class=\"sk-estimator sk-toggleable\"><input class=\"sk-toggleable__control sk-hidden--visually\" id=\"sk-estimator-id-7\" type=\"checkbox\" checked><label for=\"sk-estimator-id-7\" class=\"sk-toggleable__label sk-toggleable__label-arrow\">Perceptron</label><div class=\"sk-toggleable__content\"><pre>Perceptron()</pre></div></div></div></div></div>"
      ],
      "text/plain": [
       "Perceptron()"
      ]
     },
     "execution_count": 75,
     "metadata": {},
     "output_type": "execute_result"
    }
   ],
   "source": [
    "#PERCEPTRON MODEL\n",
    "from sklearn.linear_model import Perceptron\n",
    "percept = Perceptron(tol=1e-3, random_state=0)\n",
    "percept.fit(X_train, Y_train)\n"
   ]
  },
  {
   "cell_type": "code",
   "execution_count": 76,
   "id": "84d7dd56",
   "metadata": {},
   "outputs": [
    {
     "name": "stdout",
     "output_type": "stream",
     "text": [
      "[[1 1]\n",
      " [1 1]\n",
      " [1 1]\n",
      " ...\n",
      " [1 0]\n",
      " [1 1]\n",
      " [0 0]]\n"
     ]
    }
   ],
   "source": [
    "#PREDICTING VALUES\n",
    "\n",
    "Y_pred = percept.predict(X_test)\n",
    "percept_score = accuracy_score(Y_test,lr.predict(X_test))\n",
    "print(np.concatenate((Y_pred.reshape(len(Y_pred),1), \n",
    "Y_test.reshape(len(Y_test),1)),1))\n"
   ]
  },
  {
   "cell_type": "code",
   "execution_count": 77,
   "id": "912a6141",
   "metadata": {},
   "outputs": [
    {
     "name": "stdout",
     "output_type": "stream",
     "text": [
      "[[ 136  230]\n",
      " [ 200 1034]]\n",
      "\n",
      "\n",
      "MODEL ACCURACY :  73.125\n"
     ]
    }
   ],
   "source": [
    "#ACCURACY OF THE MODEL\n",
    "from sklearn.metrics import confusion_matrix, accuracy_score, classification_report\n",
    "cm = confusion_matrix(Y_test,Y_pred)\n",
    "print(cm)\n",
    "print(\"\\n\")\n",
    "print(\"MODEL ACCURACY : \",accuracy_score(Y_test, Y_pred)*100)\n"
   ]
  },
  {
   "cell_type": "code",
   "execution_count": 78,
   "id": "ff522b85",
   "metadata": {},
   "outputs": [
    {
     "name": "stdout",
     "output_type": "stream",
     "text": [
      "              precision    recall  f1-score   support\n",
      "\n",
      "           0       0.40      0.37      0.39       366\n",
      "           1       0.82      0.84      0.83      1234\n",
      "\n",
      "    accuracy                           0.73      1600\n",
      "   macro avg       0.61      0.60      0.61      1600\n",
      "weighted avg       0.72      0.73      0.73      1600\n",
      "\n"
     ]
    }
   ],
   "source": [
    "#CLASSIFICATION MODEL\n",
    "print(classification_report(Y_test,Y_pred))\n"
   ]
  },
  {
   "cell_type": "code",
   "execution_count": 79,
   "id": "3e1e7570",
   "metadata": {},
   "outputs": [
    {
     "data": {
      "text/html": [
       "<style>#sk-container-id-8 {color: black;background-color: white;}#sk-container-id-8 pre{padding: 0;}#sk-container-id-8 div.sk-toggleable {background-color: white;}#sk-container-id-8 label.sk-toggleable__label {cursor: pointer;display: block;width: 100%;margin-bottom: 0;padding: 0.3em;box-sizing: border-box;text-align: center;}#sk-container-id-8 label.sk-toggleable__label-arrow:before {content: \"▸\";float: left;margin-right: 0.25em;color: #696969;}#sk-container-id-8 label.sk-toggleable__label-arrow:hover:before {color: black;}#sk-container-id-8 div.sk-estimator:hover label.sk-toggleable__label-arrow:before {color: black;}#sk-container-id-8 div.sk-toggleable__content {max-height: 0;max-width: 0;overflow: hidden;text-align: left;background-color: #f0f8ff;}#sk-container-id-8 div.sk-toggleable__content pre {margin: 0.2em;color: black;border-radius: 0.25em;background-color: #f0f8ff;}#sk-container-id-8 input.sk-toggleable__control:checked~div.sk-toggleable__content {max-height: 200px;max-width: 100%;overflow: auto;}#sk-container-id-8 input.sk-toggleable__control:checked~label.sk-toggleable__label-arrow:before {content: \"▾\";}#sk-container-id-8 div.sk-estimator input.sk-toggleable__control:checked~label.sk-toggleable__label {background-color: #d4ebff;}#sk-container-id-8 div.sk-label input.sk-toggleable__control:checked~label.sk-toggleable__label {background-color: #d4ebff;}#sk-container-id-8 input.sk-hidden--visually {border: 0;clip: rect(1px 1px 1px 1px);clip: rect(1px, 1px, 1px, 1px);height: 1px;margin: -1px;overflow: hidden;padding: 0;position: absolute;width: 1px;}#sk-container-id-8 div.sk-estimator {font-family: monospace;background-color: #f0f8ff;border: 1px dotted black;border-radius: 0.25em;box-sizing: border-box;margin-bottom: 0.5em;}#sk-container-id-8 div.sk-estimator:hover {background-color: #d4ebff;}#sk-container-id-8 div.sk-parallel-item::after {content: \"\";width: 100%;border-bottom: 1px solid gray;flex-grow: 1;}#sk-container-id-8 div.sk-label:hover label.sk-toggleable__label {background-color: #d4ebff;}#sk-container-id-8 div.sk-serial::before {content: \"\";position: absolute;border-left: 1px solid gray;box-sizing: border-box;top: 0;bottom: 0;left: 50%;z-index: 0;}#sk-container-id-8 div.sk-serial {display: flex;flex-direction: column;align-items: center;background-color: white;padding-right: 0.2em;padding-left: 0.2em;position: relative;}#sk-container-id-8 div.sk-item {position: relative;z-index: 1;}#sk-container-id-8 div.sk-parallel {display: flex;align-items: stretch;justify-content: center;background-color: white;position: relative;}#sk-container-id-8 div.sk-item::before, #sk-container-id-8 div.sk-parallel-item::before {content: \"\";position: absolute;border-left: 1px solid gray;box-sizing: border-box;top: 0;bottom: 0;left: 50%;z-index: -1;}#sk-container-id-8 div.sk-parallel-item {display: flex;flex-direction: column;z-index: 1;position: relative;background-color: white;}#sk-container-id-8 div.sk-parallel-item:first-child::after {align-self: flex-end;width: 50%;}#sk-container-id-8 div.sk-parallel-item:last-child::after {align-self: flex-start;width: 50%;}#sk-container-id-8 div.sk-parallel-item:only-child::after {width: 0;}#sk-container-id-8 div.sk-dashed-wrapped {border: 1px dashed gray;margin: 0 0.4em 0.5em 0.4em;box-sizing: border-box;padding-bottom: 0.4em;background-color: white;}#sk-container-id-8 div.sk-label label {font-family: monospace;font-weight: bold;display: inline-block;line-height: 1.2em;}#sk-container-id-8 div.sk-label-container {text-align: center;}#sk-container-id-8 div.sk-container {/* jupyter's `normalize.less` sets `[hidden] { display: none; }` but bootstrap.min.css set `[hidden] { display: none !important; }` so we also need the `!important` here to be able to override the default hidden behavior on the sphinx rendered scikit-learn.org. See: https://github.com/scikit-learn/scikit-learn/issues/21755 */display: inline-block !important;position: relative;}#sk-container-id-8 div.sk-text-repr-fallback {display: none;}</style><div id=\"sk-container-id-8\" class=\"sk-top-container\"><div class=\"sk-text-repr-fallback\"><pre>SGDClassifier(loss=&#x27;modified_huber&#x27;, random_state=0)</pre><b>In a Jupyter environment, please rerun this cell to show the HTML representation or trust the notebook. <br />On GitHub, the HTML representation is unable to render, please try loading this page with nbviewer.org.</b></div><div class=\"sk-container\" hidden><div class=\"sk-item\"><div class=\"sk-estimator sk-toggleable\"><input class=\"sk-toggleable__control sk-hidden--visually\" id=\"sk-estimator-id-8\" type=\"checkbox\" checked><label for=\"sk-estimator-id-8\" class=\"sk-toggleable__label sk-toggleable__label-arrow\">SGDClassifier</label><div class=\"sk-toggleable__content\"><pre>SGDClassifier(loss=&#x27;modified_huber&#x27;, random_state=0)</pre></div></div></div></div></div>"
      ],
      "text/plain": [
       "SGDClassifier(loss='modified_huber', random_state=0)"
      ]
     },
     "execution_count": 79,
     "metadata": {},
     "output_type": "execute_result"
    }
   ],
   "source": [
    "#SGD MODEL\n",
    "from sklearn.linear_model import SGDClassifier\n",
    "sgd = SGDClassifier(loss='modified_huber', random_state=0)\n",
    "sgd.fit(X_train, Y_train)\n"
   ]
  },
  {
   "cell_type": "code",
   "execution_count": 80,
   "id": "34a794d1",
   "metadata": {},
   "outputs": [
    {
     "name": "stdout",
     "output_type": "stream",
     "text": [
      "[[1 1]\n",
      " [1 1]\n",
      " [1 1]\n",
      " ...\n",
      " [1 0]\n",
      " [1 1]\n",
      " [0 0]]\n"
     ]
    }
   ],
   "source": [
    "#PREDICTING VALUES\n",
    "Y_pred = sgd.predict(X_test)\n",
    "sgd_score = accuracy_score(Y_test,lr.predict(X_test))\n",
    "print(np.concatenate((Y_pred.reshape(len(Y_pred),1), Y_test.reshape(len(Y_test),1)),1))\n"
   ]
  },
  {
   "cell_type": "code",
   "execution_count": 81,
   "id": "af0d0514",
   "metadata": {},
   "outputs": [
    {
     "name": "stdout",
     "output_type": "stream",
     "text": [
      "[[ 155  211]\n",
      " [ 209 1025]]\n",
      "\n",
      "\n",
      "MODEL ACCURACY :  73.75\n"
     ]
    }
   ],
   "source": [
    "#ACCURACY OF THE MODEL\n",
    "from sklearn.metrics import confusion_matrix, accuracy_score, classification_report\n",
    "cm = confusion_matrix(Y_test,Y_pred)\n",
    "print(cm)\n",
    "print(\"\\n\")\n",
    "print(\"MODEL ACCURACY : \",accuracy_score(Y_test, Y_pred)*100)\n"
   ]
  },
  {
   "cell_type": "code",
   "execution_count": 82,
   "id": "883e1944",
   "metadata": {},
   "outputs": [
    {
     "name": "stdout",
     "output_type": "stream",
     "text": [
      "              precision    recall  f1-score   support\n",
      "\n",
      "           0       0.43      0.42      0.42       366\n",
      "           1       0.83      0.83      0.83      1234\n",
      "\n",
      "    accuracy                           0.74      1600\n",
      "   macro avg       0.63      0.63      0.63      1600\n",
      "weighted avg       0.74      0.74      0.74      1600\n",
      "\n"
     ]
    }
   ],
   "source": [
    "#CLASSIFICATION REPORT\n",
    "print(classification_report(Y_test,Y_pred))\n",
    "\n"
   ]
  },
  {
   "cell_type": "code",
   "execution_count": 83,
   "id": "e5b88afc",
   "metadata": {},
   "outputs": [
    {
     "data": {
      "text/html": [
       "<style>#sk-container-id-9 {color: black;background-color: white;}#sk-container-id-9 pre{padding: 0;}#sk-container-id-9 div.sk-toggleable {background-color: white;}#sk-container-id-9 label.sk-toggleable__label {cursor: pointer;display: block;width: 100%;margin-bottom: 0;padding: 0.3em;box-sizing: border-box;text-align: center;}#sk-container-id-9 label.sk-toggleable__label-arrow:before {content: \"▸\";float: left;margin-right: 0.25em;color: #696969;}#sk-container-id-9 label.sk-toggleable__label-arrow:hover:before {color: black;}#sk-container-id-9 div.sk-estimator:hover label.sk-toggleable__label-arrow:before {color: black;}#sk-container-id-9 div.sk-toggleable__content {max-height: 0;max-width: 0;overflow: hidden;text-align: left;background-color: #f0f8ff;}#sk-container-id-9 div.sk-toggleable__content pre {margin: 0.2em;color: black;border-radius: 0.25em;background-color: #f0f8ff;}#sk-container-id-9 input.sk-toggleable__control:checked~div.sk-toggleable__content {max-height: 200px;max-width: 100%;overflow: auto;}#sk-container-id-9 input.sk-toggleable__control:checked~label.sk-toggleable__label-arrow:before {content: \"▾\";}#sk-container-id-9 div.sk-estimator input.sk-toggleable__control:checked~label.sk-toggleable__label {background-color: #d4ebff;}#sk-container-id-9 div.sk-label input.sk-toggleable__control:checked~label.sk-toggleable__label {background-color: #d4ebff;}#sk-container-id-9 input.sk-hidden--visually {border: 0;clip: rect(1px 1px 1px 1px);clip: rect(1px, 1px, 1px, 1px);height: 1px;margin: -1px;overflow: hidden;padding: 0;position: absolute;width: 1px;}#sk-container-id-9 div.sk-estimator {font-family: monospace;background-color: #f0f8ff;border: 1px dotted black;border-radius: 0.25em;box-sizing: border-box;margin-bottom: 0.5em;}#sk-container-id-9 div.sk-estimator:hover {background-color: #d4ebff;}#sk-container-id-9 div.sk-parallel-item::after {content: \"\";width: 100%;border-bottom: 1px solid gray;flex-grow: 1;}#sk-container-id-9 div.sk-label:hover label.sk-toggleable__label {background-color: #d4ebff;}#sk-container-id-9 div.sk-serial::before {content: \"\";position: absolute;border-left: 1px solid gray;box-sizing: border-box;top: 0;bottom: 0;left: 50%;z-index: 0;}#sk-container-id-9 div.sk-serial {display: flex;flex-direction: column;align-items: center;background-color: white;padding-right: 0.2em;padding-left: 0.2em;position: relative;}#sk-container-id-9 div.sk-item {position: relative;z-index: 1;}#sk-container-id-9 div.sk-parallel {display: flex;align-items: stretch;justify-content: center;background-color: white;position: relative;}#sk-container-id-9 div.sk-item::before, #sk-container-id-9 div.sk-parallel-item::before {content: \"\";position: absolute;border-left: 1px solid gray;box-sizing: border-box;top: 0;bottom: 0;left: 50%;z-index: -1;}#sk-container-id-9 div.sk-parallel-item {display: flex;flex-direction: column;z-index: 1;position: relative;background-color: white;}#sk-container-id-9 div.sk-parallel-item:first-child::after {align-self: flex-end;width: 50%;}#sk-container-id-9 div.sk-parallel-item:last-child::after {align-self: flex-start;width: 50%;}#sk-container-id-9 div.sk-parallel-item:only-child::after {width: 0;}#sk-container-id-9 div.sk-dashed-wrapped {border: 1px dashed gray;margin: 0 0.4em 0.5em 0.4em;box-sizing: border-box;padding-bottom: 0.4em;background-color: white;}#sk-container-id-9 div.sk-label label {font-family: monospace;font-weight: bold;display: inline-block;line-height: 1.2em;}#sk-container-id-9 div.sk-label-container {text-align: center;}#sk-container-id-9 div.sk-container {/* jupyter's `normalize.less` sets `[hidden] { display: none; }` but bootstrap.min.css set `[hidden] { display: none !important; }` so we also need the `!important` here to be able to override the default hidden behavior on the sphinx rendered scikit-learn.org. See: https://github.com/scikit-learn/scikit-learn/issues/21755 */display: inline-block !important;position: relative;}#sk-container-id-9 div.sk-text-repr-fallback {display: none;}</style><div id=\"sk-container-id-9\" class=\"sk-top-container\"><div class=\"sk-text-repr-fallback\"><pre>RandomForestClassifier(max_depth=2, random_state=0)</pre><b>In a Jupyter environment, please rerun this cell to show the HTML representation or trust the notebook. <br />On GitHub, the HTML representation is unable to render, please try loading this page with nbviewer.org.</b></div><div class=\"sk-container\" hidden><div class=\"sk-item\"><div class=\"sk-estimator sk-toggleable\"><input class=\"sk-toggleable__control sk-hidden--visually\" id=\"sk-estimator-id-9\" type=\"checkbox\" checked><label for=\"sk-estimator-id-9\" class=\"sk-toggleable__label sk-toggleable__label-arrow\">RandomForestClassifier</label><div class=\"sk-toggleable__content\"><pre>RandomForestClassifier(max_depth=2, random_state=0)</pre></div></div></div></div></div>"
      ],
      "text/plain": [
       "RandomForestClassifier(max_depth=2, random_state=0)"
      ]
     },
     "execution_count": 83,
     "metadata": {},
     "output_type": "execute_result"
    }
   ],
   "source": [
    "# Random Forest Model\n",
    "\n",
    "from sklearn.ensemble import RandomForestClassifier\n",
    "#from sklearn.model_selection import GridSearchCV\n",
    "#create a new random forest classifier\n",
    "rf = RandomForestClassifier(max_depth=2, random_state=0)\n",
    "rf.fit(X_train, Y_train)\n"
   ]
  },
  {
   "cell_type": "code",
   "execution_count": 84,
   "id": "41580c1d",
   "metadata": {},
   "outputs": [
    {
     "name": "stdout",
     "output_type": "stream",
     "text": [
      "[[1 1]\n",
      " [1 1]\n",
      " [1 1]\n",
      " ...\n",
      " [1 0]\n",
      " [1 1]\n",
      " [0 0]]\n"
     ]
    }
   ],
   "source": [
    "#PREDICTING VALUES\n",
    "Y_pred = rf.predict(X_test)\n",
    "rf_score = accuracy_score(Y_test,lr.predict(X_test))\n",
    "print(np.concatenate((Y_pred.reshape(len(Y_pred),1), Y_test.reshape(len(Y_test),1)),1))\n"
   ]
  },
  {
   "cell_type": "code",
   "execution_count": 85,
   "id": "a0677c24",
   "metadata": {},
   "outputs": [
    {
     "name": "stdout",
     "output_type": "stream",
     "text": [
      "\n",
      "\n",
      "MODEL ACCURACY :  97.1875\n",
      "[[ 323   43]\n",
      " [   2 1232]]\n"
     ]
    }
   ],
   "source": [
    "#ACCURACY OF THE MODEL\n",
    "from sklearn.metrics import confusion_matrix, accuracy_score, classification_report\n",
    "print(\"\\n\")\n",
    "print(\"MODEL ACCURACY : \",accuracy_score(Y_test, Y_pred)*100)\n",
    "cm = confusion_matrix(Y_test,Y_pred)\n",
    "print(cm)"
   ]
  },
  {
   "cell_type": "code",
   "execution_count": 86,
   "id": "9f9be789",
   "metadata": {
    "scrolled": true
   },
   "outputs": [
    {
     "name": "stdout",
     "output_type": "stream",
     "text": [
      "              precision    recall  f1-score   support\n",
      "\n",
      "           0       0.99      0.88      0.93       366\n",
      "           1       0.97      1.00      0.98      1234\n",
      "\n",
      "    accuracy                           0.97      1600\n",
      "   macro avg       0.98      0.94      0.96      1600\n",
      "weighted avg       0.97      0.97      0.97      1600\n",
      "\n"
     ]
    }
   ],
   "source": [
    "#CLASSIFICATION REPORT\n",
    "print(classification_report(Y_test,Y_pred))\n"
   ]
  },
  {
   "cell_type": "code",
   "execution_count": 87,
   "id": "cbd37d66",
   "metadata": {},
   "outputs": [],
   "source": [
    "#print(dict(zip(dataset.columns,rf.feature_importances_)))"
   ]
  },
  {
   "cell_type": "code",
   "execution_count": 88,
   "id": "76cb1225",
   "metadata": {},
   "outputs": [
    {
     "name": "stdout",
     "output_type": "stream",
     "text": [
      "The accuracy score achieved using Voting Classifier is: 0.94125\n"
     ]
    }
   ],
   "source": [
    "# Voting Classifier\n",
    "from sklearn.ensemble import VotingClassifier\n",
    "knn =  KNeighborsClassifier(n_neighbors=85,metric='minkowski',p=2)\n",
    "lr = LogisticRegression(max_iter=1000)\n",
    "rf = RandomForestClassifier(max_depth=2, random_state=0)\n",
    "nb = GaussianNB()\n",
    "vc = VotingClassifier(estimators=[('knn',knn),('lr',lr),\n",
    "                                  ('rf',rf),\n",
    "                                  ('nb',nb)], voting='soft')\n",
    "vc.fit(X_train,Y_train)\n",
    "vc_score = vc.score(X_test, Y_test)\n",
    "print (\"The accuracy score achieved using Voting Classifier is: \"+str(vc_score))"
   ]
  },
  {
   "cell_type": "code",
   "execution_count": 89,
   "id": "4429a89f",
   "metadata": {},
   "outputs": [
    {
     "data": {
      "image/png": "[encoded data removed]",
      "text/plain": [
       "<Figure size 640x480 with 1 Axes>"
      ]
     },
     "metadata": {},
     "output_type": "display_data"
    }
   ],
   "source": [
    "label = ['Random Forest','KNN','Logistic Regression','Gaussian NB','SVM','SGD','Perceptron','Voting Classifier']\n",
    "scores = [lr_score,knn_score,nb_score,rf_score,sgd_score,svm_score,percept_score,vc_score]\n",
    "sns.barplot(x=label,y=scores)\n",
    "plt.xticks(rotation=45)\n",
    "for i in range(len(label)):\n",
    "    plt.text(i,scores[i],round(scores[i]*100,2),horizontalalignment='center')\n",
    "plt.title('Dataset 2')\n",
    "plt.savefig('results.png')"
   ]
  },
  {
   "cell_type": "code",
   "execution_count": null,
   "id": "5dd2bcbe",
   "metadata": {},
   "outputs": [],
   "source": []
  }
 ],
 "metadata": {
  "kernelspec": {
   "display_name": "Python 3 (ipykernel)",
   "language": "python",
   "name": "python3"
  },
  "language_info": {
   "codemirror_mode": {
    "name": "ipython",
    "version": 3
   },
   "file_extension": ".py",
   "mimetype": "text/x-python",
   "name": "python",
   "nbconvert_exporter": "python",
   "pygments_lexer": "ipython3",
   "version": "3.10.7"
  }
 },
 "nbformat": 4,
 "nbformat_minor": 5
}
